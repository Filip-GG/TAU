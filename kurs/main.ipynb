{
 "cells": [
  {
   "cell_type": "code",
   "execution_count": 2,
   "id": "77d3cc9d",
   "metadata": {},
   "outputs": [],
   "source": [
    "import numpy as np\n",
    "import matplotlib.pyplot as plt\n",
    "import sympy\n",
    "from scipy.integrate import odeint\n",
    "from tqdm import tqdm\n",
    "import control as ct"
   ]
  },
  {
   "cell_type": "code",
   "execution_count": 3,
   "id": "87e588ea",
   "metadata": {},
   "outputs": [],
   "source": [
    "M = 0.4  # Масса тележки\n",
    "m = 0.2  # Масса маятника\n",
    "l = 0.25 # Длинна маятника\n",
    "g = 9.8  # Ускорение свободного падения\n",
    "f = 0.0  # Начальная сила "
   ]
  },
  {
   "cell_type": "markdown",
   "id": "63cbd5eb",
   "metadata": {},
   "source": [
    "# Уравнения объекта в форме Коши"
   ]
  },
  {
   "attachments": {
    "image-2.png": {
     "image/png": "[encoded data removed]"
    },
    "image.png": {
     "image/png": "[encoded data removed]"
    }
   },
   "cell_type": "markdown",
   "id": "d73d0e21",
   "metadata": {},
   "source": [
    "![image.png](attachment:image.png)\n",
    "![image-2.png](attachment:image-2.png)"
   ]
  },
  {
   "cell_type": "code",
   "execution_count": 4,
   "id": "864f630c",
   "metadata": {},
   "outputs": [],
   "source": [
    "def koshi(y, t):\n",
    "    \"\"\"\n",
    "    y - векрот состояния\n",
    "        x - положение в пространстве\n",
    "        theta - угол\n",
    "        dtheta - скрость имзменения угла\n",
    "        dx - скорость коретки \n",
    "    t - время \n",
    "    \"\"\"\n",
    "    x, theta, dtheta, dx = y\n",
    "    sin_theta = np.sin(theta)\n",
    "    cos_theta = np.cos(theta)\n",
    "    \n",
    "    denominator = (M + m)*l - m*l*cos_theta**2\n",
    "    \n",
    "    ddtheta = ((M + m)*g*sin_theta - m*l*dtheta**2*sin_theta*cos_theta - f*cos_theta) / denominator\n",
    "    ddx = (m*l**2*dtheta**2*sin_theta + l*f - m*g*l*sin_theta*cos_theta) / denominator\n",
    "    \n",
    "    return [dtheta, ddtheta, dx, ddx]"
   ]
  },
  {
   "cell_type": "markdown",
   "id": "cfd90165",
   "metadata": {},
   "source": [
    "### Моделируем"
   ]
  },
  {
   "cell_type": "code",
   "execution_count": 5,
   "id": "e9f238af",
   "metadata": {},
   "outputs": [],
   "source": [
    "def model(\n",
    "        theta0, \n",
    "        dtheta0, \n",
    "        ts=10, nt=101, x0 = 0.0, dx0 = 0.0\n",
    "        ):\n",
    "    \"\"\"\n",
    "    theta0 - начальный угол\n",
    "\n",
    "    dtheta0 - начальная скорость изменения угла\n",
    "    \n",
    "    ts - время\n",
    "    \n",
    "    nt - шаг дискретизации времени\n",
    "    \n",
    "    x0 - начальная точка коретки\n",
    "    \n",
    "    dx0 - начальная скорость коретки\n",
    "    \"\"\"\n",
    "    initial_conditions = [x0, theta0, dtheta0, dx0]\n",
    "    t = np.arange(0, ts, nt)\n",
    "    sol = odeint(koshi, initial_conditions, t)\n",
    "    return sol"
   ]
  },
  {
   "cell_type": "code",
   "execution_count": null,
   "id": "d973bab4",
   "metadata": {},
   "outputs": [
    {
     "name": "stderr",
     "output_type": "stream",
     "text": [
      "  0%|          | 0/720 [00:00<?, ?it/s]"
     ]
    },
    {
     "name": "stderr",
     "output_type": "stream",
     "text": [
      "100%|██████████| 720/720 [13:48<00:00,  1.15s/it]\n"
     ]
    },
    {
     "ename": "NameError",
     "evalue": "name 'xlim' is not defined",
     "output_type": "error",
     "traceback": [
      "\u001b[1;31m---------------------------------------------------------------------------\u001b[0m",
      "\u001b[1;31mNameError\u001b[0m                                 Traceback (most recent call last)",
      "Cell \u001b[1;32mIn[18], line 19\u001b[0m\n\u001b[0;32m     16\u001b[0m plt\u001b[38;5;241m.\u001b[39mtitle(\u001b[38;5;124m'\u001b[39m\u001b[38;5;124m dθ/dt\u001b[39m\u001b[38;5;124m'\u001b[39m)\n\u001b[0;32m     17\u001b[0m plt\u001b[38;5;241m.\u001b[39mgrid()\n\u001b[1;32m---> 19\u001b[0m \u001b[38;5;28;01mif\u001b[39;00m xlim: plt\u001b[38;5;241m.\u001b[39mxlim(xlim)\n\u001b[0;32m     20\u001b[0m \u001b[38;5;28;01mif\u001b[39;00m ylim: plt\u001b[38;5;241m.\u001b[39mylim(ylim)\n\u001b[0;32m     22\u001b[0m plt\u001b[38;5;241m.\u001b[39mshow()\n",
      "\u001b[1;31mNameError\u001b[0m: name 'xlim' is not defined"
     ]
    },
    {
     "name": "stdout",
     "output_type": "stream",
     "text": [
      "Error in callback <function _draw_all_if_interactive at 0x00000155D264B240> (for post_execute), with arguments args (),kwargs {}:\n"
     ]
    },
    {
     "ename": "KeyboardInterrupt",
     "evalue": "",
     "output_type": "error",
     "traceback": [
      "\u001b[1;31m---------------------------------------------------------------------------\u001b[0m",
      "\u001b[1;31mKeyboardInterrupt\u001b[0m                         Traceback (most recent call last)",
      "File \u001b[1;32mc:\\Users\\Filic\\.conda\\envs\\pythorch\\Lib\\site-packages\\matplotlib\\pyplot.py:197\u001b[0m, in \u001b[0;36m_draw_all_if_interactive\u001b[1;34m()\u001b[0m\n\u001b[0;32m    195\u001b[0m \u001b[38;5;28;01mdef\u001b[39;00m \u001b[38;5;21m_draw_all_if_interactive\u001b[39m() \u001b[38;5;241m-\u001b[39m\u001b[38;5;241m>\u001b[39m \u001b[38;5;28;01mNone\u001b[39;00m:\n\u001b[0;32m    196\u001b[0m     \u001b[38;5;28;01mif\u001b[39;00m matplotlib\u001b[38;5;241m.\u001b[39mis_interactive():\n\u001b[1;32m--> 197\u001b[0m         \u001b[43mdraw_all\u001b[49m\u001b[43m(\u001b[49m\u001b[43m)\u001b[49m\n",
      "File \u001b[1;32mc:\\Users\\Filic\\.conda\\envs\\pythorch\\Lib\\site-packages\\matplotlib\\_pylab_helpers.py:132\u001b[0m, in \u001b[0;36mGcf.draw_all\u001b[1;34m(cls, force)\u001b[0m\n\u001b[0;32m    130\u001b[0m \u001b[38;5;28;01mfor\u001b[39;00m manager \u001b[38;5;129;01min\u001b[39;00m \u001b[38;5;28mcls\u001b[39m\u001b[38;5;241m.\u001b[39mget_all_fig_managers():\n\u001b[0;32m    131\u001b[0m     \u001b[38;5;28;01mif\u001b[39;00m force \u001b[38;5;129;01mor\u001b[39;00m manager\u001b[38;5;241m.\u001b[39mcanvas\u001b[38;5;241m.\u001b[39mfigure\u001b[38;5;241m.\u001b[39mstale:\n\u001b[1;32m--> 132\u001b[0m         \u001b[43mmanager\u001b[49m\u001b[38;5;241;43m.\u001b[39;49m\u001b[43mcanvas\u001b[49m\u001b[38;5;241;43m.\u001b[39;49m\u001b[43mdraw_idle\u001b[49m\u001b[43m(\u001b[49m\u001b[43m)\u001b[49m\n",
      "File \u001b[1;32mc:\\Users\\Filic\\.conda\\envs\\pythorch\\Lib\\site-packages\\matplotlib\\backend_bases.py:1893\u001b[0m, in \u001b[0;36mFigureCanvasBase.draw_idle\u001b[1;34m(self, *args, **kwargs)\u001b[0m\n\u001b[0;32m   1891\u001b[0m \u001b[38;5;28;01mif\u001b[39;00m \u001b[38;5;129;01mnot\u001b[39;00m \u001b[38;5;28mself\u001b[39m\u001b[38;5;241m.\u001b[39m_is_idle_drawing:\n\u001b[0;32m   1892\u001b[0m     \u001b[38;5;28;01mwith\u001b[39;00m \u001b[38;5;28mself\u001b[39m\u001b[38;5;241m.\u001b[39m_idle_draw_cntx():\n\u001b[1;32m-> 1893\u001b[0m         \u001b[38;5;28;43mself\u001b[39;49m\u001b[38;5;241;43m.\u001b[39;49m\u001b[43mdraw\u001b[49m\u001b[43m(\u001b[49m\u001b[38;5;241;43m*\u001b[39;49m\u001b[43margs\u001b[49m\u001b[43m,\u001b[49m\u001b[43m \u001b[49m\u001b[38;5;241;43m*\u001b[39;49m\u001b[38;5;241;43m*\u001b[39;49m\u001b[43mkwargs\u001b[49m\u001b[43m)\u001b[49m\n",
      "File \u001b[1;32mc:\\Users\\Filic\\.conda\\envs\\pythorch\\Lib\\site-packages\\matplotlib\\backends\\backend_agg.py:388\u001b[0m, in \u001b[0;36mFigureCanvasAgg.draw\u001b[1;34m(self)\u001b[0m\n\u001b[0;32m    385\u001b[0m \u001b[38;5;66;03m# Acquire a lock on the shared font cache.\u001b[39;00m\n\u001b[0;32m    386\u001b[0m \u001b[38;5;28;01mwith\u001b[39;00m (\u001b[38;5;28mself\u001b[39m\u001b[38;5;241m.\u001b[39mtoolbar\u001b[38;5;241m.\u001b[39m_wait_cursor_for_draw_cm() \u001b[38;5;28;01mif\u001b[39;00m \u001b[38;5;28mself\u001b[39m\u001b[38;5;241m.\u001b[39mtoolbar\n\u001b[0;32m    387\u001b[0m       \u001b[38;5;28;01melse\u001b[39;00m nullcontext()):\n\u001b[1;32m--> 388\u001b[0m     \u001b[38;5;28;43mself\u001b[39;49m\u001b[38;5;241;43m.\u001b[39;49m\u001b[43mfigure\u001b[49m\u001b[38;5;241;43m.\u001b[39;49m\u001b[43mdraw\u001b[49m\u001b[43m(\u001b[49m\u001b[38;5;28;43mself\u001b[39;49m\u001b[38;5;241;43m.\u001b[39;49m\u001b[43mrenderer\u001b[49m\u001b[43m)\u001b[49m\n\u001b[0;32m    389\u001b[0m     \u001b[38;5;66;03m# A GUI class may be need to update a window using this draw, so\u001b[39;00m\n\u001b[0;32m    390\u001b[0m     \u001b[38;5;66;03m# don't forget to call the superclass.\u001b[39;00m\n\u001b[0;32m    391\u001b[0m     \u001b[38;5;28msuper\u001b[39m()\u001b[38;5;241m.\u001b[39mdraw()\n",
      "File \u001b[1;32mc:\\Users\\Filic\\.conda\\envs\\pythorch\\Lib\\site-packages\\matplotlib\\artist.py:95\u001b[0m, in \u001b[0;36m_finalize_rasterization.<locals>.draw_wrapper\u001b[1;34m(artist, renderer, *args, **kwargs)\u001b[0m\n\u001b[0;32m     93\u001b[0m \u001b[38;5;129m@wraps\u001b[39m(draw)\n\u001b[0;32m     94\u001b[0m \u001b[38;5;28;01mdef\u001b[39;00m \u001b[38;5;21mdraw_wrapper\u001b[39m(artist, renderer, \u001b[38;5;241m*\u001b[39margs, \u001b[38;5;241m*\u001b[39m\u001b[38;5;241m*\u001b[39mkwargs):\n\u001b[1;32m---> 95\u001b[0m     result \u001b[38;5;241m=\u001b[39m \u001b[43mdraw\u001b[49m\u001b[43m(\u001b[49m\u001b[43martist\u001b[49m\u001b[43m,\u001b[49m\u001b[43m \u001b[49m\u001b[43mrenderer\u001b[49m\u001b[43m,\u001b[49m\u001b[43m \u001b[49m\u001b[38;5;241;43m*\u001b[39;49m\u001b[43margs\u001b[49m\u001b[43m,\u001b[49m\u001b[43m \u001b[49m\u001b[38;5;241;43m*\u001b[39;49m\u001b[38;5;241;43m*\u001b[39;49m\u001b[43mkwargs\u001b[49m\u001b[43m)\u001b[49m\n\u001b[0;32m     96\u001b[0m     \u001b[38;5;28;01mif\u001b[39;00m renderer\u001b[38;5;241m.\u001b[39m_rasterizing:\n\u001b[0;32m     97\u001b[0m         renderer\u001b[38;5;241m.\u001b[39mstop_rasterizing()\n",
      "File \u001b[1;32mc:\\Users\\Filic\\.conda\\envs\\pythorch\\Lib\\site-packages\\matplotlib\\artist.py:72\u001b[0m, in \u001b[0;36mallow_rasterization.<locals>.draw_wrapper\u001b[1;34m(artist, renderer)\u001b[0m\n\u001b[0;32m     69\u001b[0m     \u001b[38;5;28;01mif\u001b[39;00m artist\u001b[38;5;241m.\u001b[39mget_agg_filter() \u001b[38;5;129;01mis\u001b[39;00m \u001b[38;5;129;01mnot\u001b[39;00m \u001b[38;5;28;01mNone\u001b[39;00m:\n\u001b[0;32m     70\u001b[0m         renderer\u001b[38;5;241m.\u001b[39mstart_filter()\n\u001b[1;32m---> 72\u001b[0m     \u001b[38;5;28;01mreturn\u001b[39;00m \u001b[43mdraw\u001b[49m\u001b[43m(\u001b[49m\u001b[43martist\u001b[49m\u001b[43m,\u001b[49m\u001b[43m \u001b[49m\u001b[43mrenderer\u001b[49m\u001b[43m)\u001b[49m\n\u001b[0;32m     73\u001b[0m \u001b[38;5;28;01mfinally\u001b[39;00m:\n\u001b[0;32m     74\u001b[0m     \u001b[38;5;28;01mif\u001b[39;00m artist\u001b[38;5;241m.\u001b[39mget_agg_filter() \u001b[38;5;129;01mis\u001b[39;00m \u001b[38;5;129;01mnot\u001b[39;00m \u001b[38;5;28;01mNone\u001b[39;00m:\n",
      "File \u001b[1;32mc:\\Users\\Filic\\.conda\\envs\\pythorch\\Lib\\site-packages\\matplotlib\\figure.py:3154\u001b[0m, in \u001b[0;36mFigure.draw\u001b[1;34m(self, renderer)\u001b[0m\n\u001b[0;32m   3151\u001b[0m         \u001b[38;5;66;03m# ValueError can occur when resizing a window.\u001b[39;00m\n\u001b[0;32m   3153\u001b[0m \u001b[38;5;28mself\u001b[39m\u001b[38;5;241m.\u001b[39mpatch\u001b[38;5;241m.\u001b[39mdraw(renderer)\n\u001b[1;32m-> 3154\u001b[0m \u001b[43mmimage\u001b[49m\u001b[38;5;241;43m.\u001b[39;49m\u001b[43m_draw_list_compositing_images\u001b[49m\u001b[43m(\u001b[49m\n\u001b[0;32m   3155\u001b[0m \u001b[43m    \u001b[49m\u001b[43mrenderer\u001b[49m\u001b[43m,\u001b[49m\u001b[43m \u001b[49m\u001b[38;5;28;43mself\u001b[39;49m\u001b[43m,\u001b[49m\u001b[43m \u001b[49m\u001b[43martists\u001b[49m\u001b[43m,\u001b[49m\u001b[43m \u001b[49m\u001b[38;5;28;43mself\u001b[39;49m\u001b[38;5;241;43m.\u001b[39;49m\u001b[43msuppressComposite\u001b[49m\u001b[43m)\u001b[49m\n\u001b[0;32m   3157\u001b[0m \u001b[38;5;28;01mfor\u001b[39;00m sfig \u001b[38;5;129;01min\u001b[39;00m \u001b[38;5;28mself\u001b[39m\u001b[38;5;241m.\u001b[39msubfigs:\n\u001b[0;32m   3158\u001b[0m     sfig\u001b[38;5;241m.\u001b[39mdraw(renderer)\n",
      "File \u001b[1;32mc:\\Users\\Filic\\.conda\\envs\\pythorch\\Lib\\site-packages\\matplotlib\\image.py:132\u001b[0m, in \u001b[0;36m_draw_list_compositing_images\u001b[1;34m(renderer, parent, artists, suppress_composite)\u001b[0m\n\u001b[0;32m    130\u001b[0m \u001b[38;5;28;01mif\u001b[39;00m not_composite \u001b[38;5;129;01mor\u001b[39;00m \u001b[38;5;129;01mnot\u001b[39;00m has_images:\n\u001b[0;32m    131\u001b[0m     \u001b[38;5;28;01mfor\u001b[39;00m a \u001b[38;5;129;01min\u001b[39;00m artists:\n\u001b[1;32m--> 132\u001b[0m         \u001b[43ma\u001b[49m\u001b[38;5;241;43m.\u001b[39;49m\u001b[43mdraw\u001b[49m\u001b[43m(\u001b[49m\u001b[43mrenderer\u001b[49m\u001b[43m)\u001b[49m\n\u001b[0;32m    133\u001b[0m \u001b[38;5;28;01melse\u001b[39;00m:\n\u001b[0;32m    134\u001b[0m     \u001b[38;5;66;03m# Composite any adjacent images together\u001b[39;00m\n\u001b[0;32m    135\u001b[0m     image_group \u001b[38;5;241m=\u001b[39m []\n",
      "File \u001b[1;32mc:\\Users\\Filic\\.conda\\envs\\pythorch\\Lib\\site-packages\\matplotlib\\artist.py:72\u001b[0m, in \u001b[0;36mallow_rasterization.<locals>.draw_wrapper\u001b[1;34m(artist, renderer)\u001b[0m\n\u001b[0;32m     69\u001b[0m     \u001b[38;5;28;01mif\u001b[39;00m artist\u001b[38;5;241m.\u001b[39mget_agg_filter() \u001b[38;5;129;01mis\u001b[39;00m \u001b[38;5;129;01mnot\u001b[39;00m \u001b[38;5;28;01mNone\u001b[39;00m:\n\u001b[0;32m     70\u001b[0m         renderer\u001b[38;5;241m.\u001b[39mstart_filter()\n\u001b[1;32m---> 72\u001b[0m     \u001b[38;5;28;01mreturn\u001b[39;00m \u001b[43mdraw\u001b[49m\u001b[43m(\u001b[49m\u001b[43martist\u001b[49m\u001b[43m,\u001b[49m\u001b[43m \u001b[49m\u001b[43mrenderer\u001b[49m\u001b[43m)\u001b[49m\n\u001b[0;32m     73\u001b[0m \u001b[38;5;28;01mfinally\u001b[39;00m:\n\u001b[0;32m     74\u001b[0m     \u001b[38;5;28;01mif\u001b[39;00m artist\u001b[38;5;241m.\u001b[39mget_agg_filter() \u001b[38;5;129;01mis\u001b[39;00m \u001b[38;5;129;01mnot\u001b[39;00m \u001b[38;5;28;01mNone\u001b[39;00m:\n",
      "File \u001b[1;32mc:\\Users\\Filic\\.conda\\envs\\pythorch\\Lib\\site-packages\\matplotlib\\axes\\_base.py:3070\u001b[0m, in \u001b[0;36m_AxesBase.draw\u001b[1;34m(self, renderer)\u001b[0m\n\u001b[0;32m   3067\u001b[0m \u001b[38;5;28;01mif\u001b[39;00m artists_rasterized:\n\u001b[0;32m   3068\u001b[0m     _draw_rasterized(\u001b[38;5;28mself\u001b[39m\u001b[38;5;241m.\u001b[39mfigure, artists_rasterized, renderer)\n\u001b[1;32m-> 3070\u001b[0m \u001b[43mmimage\u001b[49m\u001b[38;5;241;43m.\u001b[39;49m\u001b[43m_draw_list_compositing_images\u001b[49m\u001b[43m(\u001b[49m\n\u001b[0;32m   3071\u001b[0m \u001b[43m    \u001b[49m\u001b[43mrenderer\u001b[49m\u001b[43m,\u001b[49m\u001b[43m \u001b[49m\u001b[38;5;28;43mself\u001b[39;49m\u001b[43m,\u001b[49m\u001b[43m \u001b[49m\u001b[43martists\u001b[49m\u001b[43m,\u001b[49m\u001b[43m \u001b[49m\u001b[38;5;28;43mself\u001b[39;49m\u001b[38;5;241;43m.\u001b[39;49m\u001b[43mfigure\u001b[49m\u001b[38;5;241;43m.\u001b[39;49m\u001b[43msuppressComposite\u001b[49m\u001b[43m)\u001b[49m\n\u001b[0;32m   3073\u001b[0m renderer\u001b[38;5;241m.\u001b[39mclose_group(\u001b[38;5;124m'\u001b[39m\u001b[38;5;124maxes\u001b[39m\u001b[38;5;124m'\u001b[39m)\n\u001b[0;32m   3074\u001b[0m \u001b[38;5;28mself\u001b[39m\u001b[38;5;241m.\u001b[39mstale \u001b[38;5;241m=\u001b[39m \u001b[38;5;28;01mFalse\u001b[39;00m\n",
      "File \u001b[1;32mc:\\Users\\Filic\\.conda\\envs\\pythorch\\Lib\\site-packages\\matplotlib\\image.py:132\u001b[0m, in \u001b[0;36m_draw_list_compositing_images\u001b[1;34m(renderer, parent, artists, suppress_composite)\u001b[0m\n\u001b[0;32m    130\u001b[0m \u001b[38;5;28;01mif\u001b[39;00m not_composite \u001b[38;5;129;01mor\u001b[39;00m \u001b[38;5;129;01mnot\u001b[39;00m has_images:\n\u001b[0;32m    131\u001b[0m     \u001b[38;5;28;01mfor\u001b[39;00m a \u001b[38;5;129;01min\u001b[39;00m artists:\n\u001b[1;32m--> 132\u001b[0m         \u001b[43ma\u001b[49m\u001b[38;5;241;43m.\u001b[39;49m\u001b[43mdraw\u001b[49m\u001b[43m(\u001b[49m\u001b[43mrenderer\u001b[49m\u001b[43m)\u001b[49m\n\u001b[0;32m    133\u001b[0m \u001b[38;5;28;01melse\u001b[39;00m:\n\u001b[0;32m    134\u001b[0m     \u001b[38;5;66;03m# Composite any adjacent images together\u001b[39;00m\n\u001b[0;32m    135\u001b[0m     image_group \u001b[38;5;241m=\u001b[39m []\n",
      "File \u001b[1;32mc:\\Users\\Filic\\.conda\\envs\\pythorch\\Lib\\site-packages\\matplotlib\\artist.py:72\u001b[0m, in \u001b[0;36mallow_rasterization.<locals>.draw_wrapper\u001b[1;34m(artist, renderer)\u001b[0m\n\u001b[0;32m     69\u001b[0m     \u001b[38;5;28;01mif\u001b[39;00m artist\u001b[38;5;241m.\u001b[39mget_agg_filter() \u001b[38;5;129;01mis\u001b[39;00m \u001b[38;5;129;01mnot\u001b[39;00m \u001b[38;5;28;01mNone\u001b[39;00m:\n\u001b[0;32m     70\u001b[0m         renderer\u001b[38;5;241m.\u001b[39mstart_filter()\n\u001b[1;32m---> 72\u001b[0m     \u001b[38;5;28;01mreturn\u001b[39;00m \u001b[43mdraw\u001b[49m\u001b[43m(\u001b[49m\u001b[43martist\u001b[49m\u001b[43m,\u001b[49m\u001b[43m \u001b[49m\u001b[43mrenderer\u001b[49m\u001b[43m)\u001b[49m\n\u001b[0;32m     73\u001b[0m \u001b[38;5;28;01mfinally\u001b[39;00m:\n\u001b[0;32m     74\u001b[0m     \u001b[38;5;28;01mif\u001b[39;00m artist\u001b[38;5;241m.\u001b[39mget_agg_filter() \u001b[38;5;129;01mis\u001b[39;00m \u001b[38;5;129;01mnot\u001b[39;00m \u001b[38;5;28;01mNone\u001b[39;00m:\n",
      "File \u001b[1;32mc:\\Users\\Filic\\.conda\\envs\\pythorch\\Lib\\site-packages\\matplotlib\\lines.py:801\u001b[0m, in \u001b[0;36mLine2D.draw\u001b[1;34m(self, renderer)\u001b[0m\n\u001b[0;32m    798\u001b[0m         gc\u001b[38;5;241m.\u001b[39mset_foreground(lc_rgba, isRGBA\u001b[38;5;241m=\u001b[39m\u001b[38;5;28;01mTrue\u001b[39;00m)\n\u001b[0;32m    800\u001b[0m         gc\u001b[38;5;241m.\u001b[39mset_dashes(\u001b[38;5;241m*\u001b[39m\u001b[38;5;28mself\u001b[39m\u001b[38;5;241m.\u001b[39m_dash_pattern)\n\u001b[1;32m--> 801\u001b[0m         \u001b[43mrenderer\u001b[49m\u001b[38;5;241;43m.\u001b[39;49m\u001b[43mdraw_path\u001b[49m\u001b[43m(\u001b[49m\u001b[43mgc\u001b[49m\u001b[43m,\u001b[49m\u001b[43m \u001b[49m\u001b[43mtpath\u001b[49m\u001b[43m,\u001b[49m\u001b[43m \u001b[49m\u001b[43maffine\u001b[49m\u001b[38;5;241;43m.\u001b[39;49m\u001b[43mfrozen\u001b[49m\u001b[43m(\u001b[49m\u001b[43m)\u001b[49m\u001b[43m)\u001b[49m\n\u001b[0;32m    802\u001b[0m         gc\u001b[38;5;241m.\u001b[39mrestore()\n\u001b[0;32m    804\u001b[0m \u001b[38;5;28;01mif\u001b[39;00m \u001b[38;5;28mself\u001b[39m\u001b[38;5;241m.\u001b[39m_marker \u001b[38;5;129;01mand\u001b[39;00m \u001b[38;5;28mself\u001b[39m\u001b[38;5;241m.\u001b[39m_markersize \u001b[38;5;241m>\u001b[39m \u001b[38;5;241m0\u001b[39m:\n",
      "File \u001b[1;32mc:\\Users\\Filic\\.conda\\envs\\pythorch\\Lib\\site-packages\\matplotlib\\backends\\backend_agg.py:132\u001b[0m, in \u001b[0;36mRendererAgg.draw_path\u001b[1;34m(self, gc, path, transform, rgbFace)\u001b[0m\n\u001b[0;32m    130\u001b[0m \u001b[38;5;28;01melse\u001b[39;00m:\n\u001b[0;32m    131\u001b[0m     \u001b[38;5;28;01mtry\u001b[39;00m:\n\u001b[1;32m--> 132\u001b[0m         \u001b[38;5;28;43mself\u001b[39;49m\u001b[38;5;241;43m.\u001b[39;49m\u001b[43m_renderer\u001b[49m\u001b[38;5;241;43m.\u001b[39;49m\u001b[43mdraw_path\u001b[49m\u001b[43m(\u001b[49m\u001b[43mgc\u001b[49m\u001b[43m,\u001b[49m\u001b[43m \u001b[49m\u001b[43mpath\u001b[49m\u001b[43m,\u001b[49m\u001b[43m \u001b[49m\u001b[43mtransform\u001b[49m\u001b[43m,\u001b[49m\u001b[43m \u001b[49m\u001b[43mrgbFace\u001b[49m\u001b[43m)\u001b[49m\n\u001b[0;32m    133\u001b[0m     \u001b[38;5;28;01mexcept\u001b[39;00m \u001b[38;5;167;01mOverflowError\u001b[39;00m:\n\u001b[0;32m    134\u001b[0m         cant_chunk \u001b[38;5;241m=\u001b[39m \u001b[38;5;124m'\u001b[39m\u001b[38;5;124m'\u001b[39m\n",
      "File \u001b[1;32mc:\\Users\\Filic\\.conda\\envs\\pythorch\\Lib\\site-packages\\matplotlib\\transforms.py:240\u001b[0m, in \u001b[0;36mBboxBase.__array__\u001b[1;34m(self, *args, **kwargs)\u001b[0m\n\u001b[0;32m    239\u001b[0m \u001b[38;5;28;01mdef\u001b[39;00m \u001b[38;5;21m__array__\u001b[39m(\u001b[38;5;28mself\u001b[39m, \u001b[38;5;241m*\u001b[39margs, \u001b[38;5;241m*\u001b[39m\u001b[38;5;241m*\u001b[39mkwargs):\n\u001b[1;32m--> 240\u001b[0m     \u001b[38;5;28;01mreturn\u001b[39;00m \u001b[38;5;28;43mself\u001b[39;49m\u001b[38;5;241;43m.\u001b[39;49m\u001b[43mget_points\u001b[49m\u001b[43m(\u001b[49m\u001b[43m)\u001b[49m\n",
      "File \u001b[1;32mc:\\Users\\Filic\\.conda\\envs\\pythorch\\Lib\\site-packages\\matplotlib\\transforms.py:1113\u001b[0m, in \u001b[0;36mTransformedBbox.get_points\u001b[1;34m(self)\u001b[0m\n\u001b[0;32m   1109\u001b[0m p \u001b[38;5;241m=\u001b[39m \u001b[38;5;28mself\u001b[39m\u001b[38;5;241m.\u001b[39m_bbox\u001b[38;5;241m.\u001b[39mget_points()\n\u001b[0;32m   1110\u001b[0m \u001b[38;5;66;03m# Transform all four points, then make a new bounding box\u001b[39;00m\n\u001b[0;32m   1111\u001b[0m \u001b[38;5;66;03m# from the result, taking care to make the orientation the\u001b[39;00m\n\u001b[0;32m   1112\u001b[0m \u001b[38;5;66;03m# same.\u001b[39;00m\n\u001b[1;32m-> 1113\u001b[0m points \u001b[38;5;241m=\u001b[39m \u001b[38;5;28;43mself\u001b[39;49m\u001b[38;5;241;43m.\u001b[39;49m\u001b[43m_transform\u001b[49m\u001b[38;5;241;43m.\u001b[39;49m\u001b[43mtransform\u001b[49m\u001b[43m(\u001b[49m\n\u001b[0;32m   1114\u001b[0m \u001b[43m    \u001b[49m\u001b[43m[\u001b[49m\u001b[43m[\u001b[49m\u001b[43mp\u001b[49m\u001b[43m[\u001b[49m\u001b[38;5;241;43m0\u001b[39;49m\u001b[43m,\u001b[49m\u001b[43m \u001b[49m\u001b[38;5;241;43m0\u001b[39;49m\u001b[43m]\u001b[49m\u001b[43m,\u001b[49m\u001b[43m \u001b[49m\u001b[43mp\u001b[49m\u001b[43m[\u001b[49m\u001b[38;5;241;43m0\u001b[39;49m\u001b[43m,\u001b[49m\u001b[43m \u001b[49m\u001b[38;5;241;43m1\u001b[39;49m\u001b[43m]\u001b[49m\u001b[43m]\u001b[49m\u001b[43m,\u001b[49m\n\u001b[0;32m   1115\u001b[0m \u001b[43m     \u001b[49m\u001b[43m[\u001b[49m\u001b[43mp\u001b[49m\u001b[43m[\u001b[49m\u001b[38;5;241;43m1\u001b[39;49m\u001b[43m,\u001b[49m\u001b[43m \u001b[49m\u001b[38;5;241;43m0\u001b[39;49m\u001b[43m]\u001b[49m\u001b[43m,\u001b[49m\u001b[43m \u001b[49m\u001b[43mp\u001b[49m\u001b[43m[\u001b[49m\u001b[38;5;241;43m0\u001b[39;49m\u001b[43m,\u001b[49m\u001b[43m \u001b[49m\u001b[38;5;241;43m1\u001b[39;49m\u001b[43m]\u001b[49m\u001b[43m]\u001b[49m\u001b[43m,\u001b[49m\n\u001b[0;32m   1116\u001b[0m \u001b[43m     \u001b[49m\u001b[43m[\u001b[49m\u001b[43mp\u001b[49m\u001b[43m[\u001b[49m\u001b[38;5;241;43m0\u001b[39;49m\u001b[43m,\u001b[49m\u001b[43m \u001b[49m\u001b[38;5;241;43m0\u001b[39;49m\u001b[43m]\u001b[49m\u001b[43m,\u001b[49m\u001b[43m \u001b[49m\u001b[43mp\u001b[49m\u001b[43m[\u001b[49m\u001b[38;5;241;43m1\u001b[39;49m\u001b[43m,\u001b[49m\u001b[43m \u001b[49m\u001b[38;5;241;43m1\u001b[39;49m\u001b[43m]\u001b[49m\u001b[43m]\u001b[49m\u001b[43m,\u001b[49m\n\u001b[0;32m   1117\u001b[0m \u001b[43m     \u001b[49m\u001b[43m[\u001b[49m\u001b[43mp\u001b[49m\u001b[43m[\u001b[49m\u001b[38;5;241;43m1\u001b[39;49m\u001b[43m,\u001b[49m\u001b[43m \u001b[49m\u001b[38;5;241;43m0\u001b[39;49m\u001b[43m]\u001b[49m\u001b[43m,\u001b[49m\u001b[43m \u001b[49m\u001b[43mp\u001b[49m\u001b[43m[\u001b[49m\u001b[38;5;241;43m1\u001b[39;49m\u001b[43m,\u001b[49m\u001b[43m \u001b[49m\u001b[38;5;241;43m1\u001b[39;49m\u001b[43m]\u001b[49m\u001b[43m]\u001b[49m\u001b[43m]\u001b[49m\u001b[43m)\u001b[49m\n\u001b[0;32m   1118\u001b[0m points \u001b[38;5;241m=\u001b[39m np\u001b[38;5;241m.\u001b[39mma\u001b[38;5;241m.\u001b[39mfilled(points, \u001b[38;5;241m0.0\u001b[39m)\n\u001b[0;32m   1120\u001b[0m xs \u001b[38;5;241m=\u001b[39m \u001b[38;5;28mmin\u001b[39m(points[:, \u001b[38;5;241m0\u001b[39m]), \u001b[38;5;28mmax\u001b[39m(points[:, \u001b[38;5;241m0\u001b[39m])\n",
      "File \u001b[1;32mc:\\Users\\Filic\\.conda\\envs\\pythorch\\Lib\\site-packages\\matplotlib\\transforms.py:1495\u001b[0m, in \u001b[0;36mTransform.transform\u001b[1;34m(self, values)\u001b[0m\n\u001b[0;32m   1492\u001b[0m values \u001b[38;5;241m=\u001b[39m values\u001b[38;5;241m.\u001b[39mreshape((\u001b[38;5;241m-\u001b[39m\u001b[38;5;241m1\u001b[39m, \u001b[38;5;28mself\u001b[39m\u001b[38;5;241m.\u001b[39minput_dims))\n\u001b[0;32m   1494\u001b[0m \u001b[38;5;66;03m# Transform the values\u001b[39;00m\n\u001b[1;32m-> 1495\u001b[0m res \u001b[38;5;241m=\u001b[39m \u001b[38;5;28;43mself\u001b[39;49m\u001b[38;5;241;43m.\u001b[39;49m\u001b[43mtransform_affine\u001b[49m\u001b[43m(\u001b[49m\u001b[38;5;28;43mself\u001b[39;49m\u001b[38;5;241;43m.\u001b[39;49m\u001b[43mtransform_non_affine\u001b[49m\u001b[43m(\u001b[49m\u001b[43mvalues\u001b[49m\u001b[43m)\u001b[49m\u001b[43m)\u001b[49m\n\u001b[0;32m   1497\u001b[0m \u001b[38;5;66;03m# Convert the result back to the shape of the input values.\u001b[39;00m\n\u001b[0;32m   1498\u001b[0m \u001b[38;5;28;01mif\u001b[39;00m ndim \u001b[38;5;241m==\u001b[39m \u001b[38;5;241m0\u001b[39m:\n",
      "File \u001b[1;32mc:\\Users\\Filic\\.conda\\envs\\pythorch\\Lib\\site-packages\\matplotlib\\_api\\deprecation.py:297\u001b[0m, in \u001b[0;36mrename_parameter.<locals>.wrapper\u001b[1;34m(*args, **kwargs)\u001b[0m\n\u001b[0;32m    292\u001b[0m     warn_deprecated(\n\u001b[0;32m    293\u001b[0m         since, message\u001b[38;5;241m=\u001b[39m\u001b[38;5;124mf\u001b[39m\u001b[38;5;124m\"\u001b[39m\u001b[38;5;124mThe \u001b[39m\u001b[38;5;132;01m{\u001b[39;00mold\u001b[38;5;132;01m!r}\u001b[39;00m\u001b[38;5;124m parameter of \u001b[39m\u001b[38;5;132;01m{\u001b[39;00mfunc\u001b[38;5;241m.\u001b[39m\u001b[38;5;18m__name__\u001b[39m\u001b[38;5;132;01m}\u001b[39;00m\u001b[38;5;124m() \u001b[39m\u001b[38;5;124m\"\u001b[39m\n\u001b[0;32m    294\u001b[0m         \u001b[38;5;124mf\u001b[39m\u001b[38;5;124m\"\u001b[39m\u001b[38;5;124mhas been renamed \u001b[39m\u001b[38;5;132;01m{\u001b[39;00mnew\u001b[38;5;132;01m!r}\u001b[39;00m\u001b[38;5;124m since Matplotlib \u001b[39m\u001b[38;5;132;01m{\u001b[39;00msince\u001b[38;5;132;01m}\u001b[39;00m\u001b[38;5;124m; support \u001b[39m\u001b[38;5;124m\"\u001b[39m\n\u001b[0;32m    295\u001b[0m         \u001b[38;5;124mf\u001b[39m\u001b[38;5;124m\"\u001b[39m\u001b[38;5;124mfor the old name will be dropped %(removal)s.\u001b[39m\u001b[38;5;124m\"\u001b[39m)\n\u001b[0;32m    296\u001b[0m     kwargs[new] \u001b[38;5;241m=\u001b[39m kwargs\u001b[38;5;241m.\u001b[39mpop(old)\n\u001b[1;32m--> 297\u001b[0m \u001b[38;5;28;01mreturn\u001b[39;00m \u001b[43mfunc\u001b[49m\u001b[43m(\u001b[49m\u001b[38;5;241;43m*\u001b[39;49m\u001b[43margs\u001b[49m\u001b[43m,\u001b[49m\u001b[43m \u001b[49m\u001b[38;5;241;43m*\u001b[39;49m\u001b[38;5;241;43m*\u001b[39;49m\u001b[43mkwargs\u001b[49m\u001b[43m)\u001b[49m\n",
      "File \u001b[1;32mc:\\Users\\Filic\\.conda\\envs\\pythorch\\Lib\\site-packages\\matplotlib\\transforms.py:2409\u001b[0m, in \u001b[0;36mCompositeGenericTransform.transform_affine\u001b[1;34m(self, values)\u001b[0m\n\u001b[0;32m   2406\u001b[0m \u001b[38;5;129m@_api\u001b[39m\u001b[38;5;241m.\u001b[39mrename_parameter(\u001b[38;5;124m\"\u001b[39m\u001b[38;5;124m3.8\u001b[39m\u001b[38;5;124m\"\u001b[39m, \u001b[38;5;124m\"\u001b[39m\u001b[38;5;124mpoints\u001b[39m\u001b[38;5;124m\"\u001b[39m, \u001b[38;5;124m\"\u001b[39m\u001b[38;5;124mvalues\u001b[39m\u001b[38;5;124m\"\u001b[39m)\n\u001b[0;32m   2407\u001b[0m \u001b[38;5;28;01mdef\u001b[39;00m \u001b[38;5;21mtransform_affine\u001b[39m(\u001b[38;5;28mself\u001b[39m, values):\n\u001b[0;32m   2408\u001b[0m     \u001b[38;5;66;03m# docstring inherited\u001b[39;00m\n\u001b[1;32m-> 2409\u001b[0m     \u001b[38;5;28;01mreturn\u001b[39;00m \u001b[38;5;28;43mself\u001b[39;49m\u001b[38;5;241;43m.\u001b[39;49m\u001b[43mget_affine\u001b[49m\u001b[43m(\u001b[49m\u001b[43m)\u001b[49m\u001b[38;5;241m.\u001b[39mtransform(values)\n",
      "File \u001b[1;32mc:\\Users\\Filic\\.conda\\envs\\pythorch\\Lib\\site-packages\\matplotlib\\transforms.py:2437\u001b[0m, in \u001b[0;36mCompositeGenericTransform.get_affine\u001b[1;34m(self)\u001b[0m\n\u001b[0;32m   2434\u001b[0m     \u001b[38;5;28;01mreturn\u001b[39;00m \u001b[38;5;28mself\u001b[39m\u001b[38;5;241m.\u001b[39m_b\u001b[38;5;241m.\u001b[39mget_affine()\n\u001b[0;32m   2435\u001b[0m \u001b[38;5;28;01melse\u001b[39;00m:\n\u001b[0;32m   2436\u001b[0m     \u001b[38;5;28;01mreturn\u001b[39;00m Affine2D(np\u001b[38;5;241m.\u001b[39mdot(\u001b[38;5;28mself\u001b[39m\u001b[38;5;241m.\u001b[39m_b\u001b[38;5;241m.\u001b[39mget_affine()\u001b[38;5;241m.\u001b[39mget_matrix(),\n\u001b[1;32m-> 2437\u001b[0m                            \u001b[38;5;28;43mself\u001b[39;49m\u001b[38;5;241;43m.\u001b[39;49m\u001b[43m_a\u001b[49m\u001b[38;5;241;43m.\u001b[39;49m\u001b[43mget_affine\u001b[49m\u001b[43m(\u001b[49m\u001b[43m)\u001b[49m\u001b[38;5;241m.\u001b[39mget_matrix()))\n",
      "File \u001b[1;32mc:\\Users\\Filic\\.conda\\envs\\pythorch\\Lib\\site-packages\\matplotlib\\transforms.py:2436\u001b[0m, in \u001b[0;36mCompositeGenericTransform.get_affine\u001b[1;34m(self)\u001b[0m\n\u001b[0;32m   2434\u001b[0m     \u001b[38;5;28;01mreturn\u001b[39;00m \u001b[38;5;28mself\u001b[39m\u001b[38;5;241m.\u001b[39m_b\u001b[38;5;241m.\u001b[39mget_affine()\n\u001b[0;32m   2435\u001b[0m \u001b[38;5;28;01melse\u001b[39;00m:\n\u001b[1;32m-> 2436\u001b[0m     \u001b[38;5;28;01mreturn\u001b[39;00m Affine2D(\u001b[43mnp\u001b[49m\u001b[38;5;241;43m.\u001b[39;49m\u001b[43mdot\u001b[49m\u001b[43m(\u001b[49m\u001b[38;5;28;43mself\u001b[39;49m\u001b[38;5;241;43m.\u001b[39;49m\u001b[43m_b\u001b[49m\u001b[38;5;241;43m.\u001b[39;49m\u001b[43mget_affine\u001b[49m\u001b[43m(\u001b[49m\u001b[43m)\u001b[49m\u001b[38;5;241;43m.\u001b[39;49m\u001b[43mget_matrix\u001b[49m\u001b[43m(\u001b[49m\u001b[43m)\u001b[49m\u001b[43m,\u001b[49m\n\u001b[0;32m   2437\u001b[0m \u001b[43m                           \u001b[49m\u001b[38;5;28;43mself\u001b[39;49m\u001b[38;5;241;43m.\u001b[39;49m\u001b[43m_a\u001b[49m\u001b[38;5;241;43m.\u001b[39;49m\u001b[43mget_affine\u001b[49m\u001b[43m(\u001b[49m\u001b[43m)\u001b[49m\u001b[38;5;241;43m.\u001b[39;49m\u001b[43mget_matrix\u001b[49m\u001b[43m(\u001b[49m\u001b[43m)\u001b[49m\u001b[43m)\u001b[49m)\n",
      "\u001b[1;31mKeyboardInterrupt\u001b[0m: "
     ]
    }
   ],
   "source": [
    "plt.figure(figsize=(10, 6))\n",
    "    \n",
    "radian_line = np.arange(\n",
    "    np.radians(-180),\n",
    "    np.radians(180),\n",
    "    np.radians(1)\n",
    ")\n",
    "\n",
    "for theta0 in tqdm(radian_line):\n",
    "    for dtheta0 in radian_line:\n",
    "        sol = model(theta0, dtheta0, 10, 0.5)\n",
    "        plt.plot(sol[:, 0], sol[:, 1], 'b', alpha=0.5)  \n",
    "    \n",
    "plt.xlabel(' θ')\n",
    "plt.ylabel('dθ/dе')\n",
    "plt.title(' dθ/dt')\n",
    "plt.grid()\n",
    "\n",
    "plt.show()\n",
    "    "
   ]
  },
  {
   "cell_type": "markdown",
   "id": "fb302616",
   "metadata": {},
   "source": [
    "# Линеризация уравнений"
   ]
  },
  {
   "attachments": {
    "image-2.png": {
     "image/png": "[encoded data removed]"
    },
    "image.png": {
     "image/png": "[encoded data removed]"
    }
   },
   "cell_type": "markdown",
   "id": "b66ce192",
   "metadata": {},
   "source": [
    "![image.png](attachment:image.png)\n",
    "![image-2.png](attachment:image-2.png)"
   ]
  },
  {
   "cell_type": "code",
   "execution_count": 54,
   "id": "98765389",
   "metadata": {},
   "outputs": [],
   "source": [
    "A = np.array([\n",
    "    [0, 1, 0, 0],\n",
    "    [(M+m)*g/(l*M), 0, 0, 0],\n",
    "    [0, 0, 0, 1],\n",
    "    [-m*g/M, 0, 0, 0]\n",
    "])\n",
    "\n",
    "B = np.array([\n",
    "    [0], [-1/(l*M)], [0], [1/M]\n",
    "    ])\n",
    "C = np.array([[0, 0, 1, 0]])\n",
    "D = np.array([[0]])\n",
    "\n",
    "C_theta = np.array([[1, 0, 0, 0]])"
   ]
  },
  {
   "cell_type": "markdown",
   "id": "c122f267",
   "metadata": {},
   "source": [
    "## Передаточная функция"
   ]
  },
  {
   "cell_type": "markdown",
   "id": "3e3f70b2",
   "metadata": {},
   "source": [
    "### Создаем систему"
   ]
  },
  {
   "cell_type": "code",
   "execution_count": 37,
   "id": "7c792004",
   "metadata": {},
   "outputs": [
    {
     "data": {
      "text/latex": [
       "$$\n",
       "\\left(\\begin{array}{rllrllrllrll|rll}\n",
       "0\\phantom{.}&\\hspace{-1em}&\\hspace{-1em}\\phantom{\\cdot}&1\\phantom{.}&\\hspace{-1em}&\\hspace{-1em}\\phantom{\\cdot}&0\\phantom{.}&\\hspace{-1em}&\\hspace{-1em}\\phantom{\\cdot}&0\\phantom{.}&\\hspace{-1em}&\\hspace{-1em}\\phantom{\\cdot}&0\\phantom{.}&\\hspace{-1em}&\\hspace{-1em}\\phantom{\\cdot}\\\\\n",
       "58.&\\hspace{-1em}8&\\hspace{-1em}\\phantom{\\cdot}&0\\phantom{.}&\\hspace{-1em}&\\hspace{-1em}\\phantom{\\cdot}&0\\phantom{.}&\\hspace{-1em}&\\hspace{-1em}\\phantom{\\cdot}&0\\phantom{.}&\\hspace{-1em}&\\hspace{-1em}\\phantom{\\cdot}&-10\\phantom{.}&\\hspace{-1em}&\\hspace{-1em}\\phantom{\\cdot}\\\\\n",
       "0\\phantom{.}&\\hspace{-1em}&\\hspace{-1em}\\phantom{\\cdot}&0\\phantom{.}&\\hspace{-1em}&\\hspace{-1em}\\phantom{\\cdot}&0\\phantom{.}&\\hspace{-1em}&\\hspace{-1em}\\phantom{\\cdot}&1\\phantom{.}&\\hspace{-1em}&\\hspace{-1em}\\phantom{\\cdot}&0\\phantom{.}&\\hspace{-1em}&\\hspace{-1em}\\phantom{\\cdot}\\\\\n",
       "-4.&\\hspace{-1em}9&\\hspace{-1em}\\phantom{\\cdot}&0\\phantom{.}&\\hspace{-1em}&\\hspace{-1em}\\phantom{\\cdot}&0\\phantom{.}&\\hspace{-1em}&\\hspace{-1em}\\phantom{\\cdot}&0\\phantom{.}&\\hspace{-1em}&\\hspace{-1em}\\phantom{\\cdot}&2.&\\hspace{-1em}5&\\hspace{-1em}\\phantom{\\cdot}\\\\\n",
       "\\hline\n",
       "0\\phantom{.}&\\hspace{-1em}&\\hspace{-1em}\\phantom{\\cdot}&0\\phantom{.}&\\hspace{-1em}&\\hspace{-1em}\\phantom{\\cdot}&1\\phantom{.}&\\hspace{-1em}&\\hspace{-1em}\\phantom{\\cdot}&0\\phantom{.}&\\hspace{-1em}&\\hspace{-1em}\\phantom{\\cdot}&0\\phantom{.}&\\hspace{-1em}&\\hspace{-1em}\\phantom{\\cdot}\\\\\n",
       "\\end{array}\\right)\n",
       "$$"
      ],
      "text/plain": [
       "StateSpace(array([[ 0. ,  1. ,  0. ,  0. ],\n",
       "       [58.8,  0. ,  0. ,  0. ],\n",
       "       [ 0. ,  0. ,  0. ,  1. ],\n",
       "       [-4.9,  0. ,  0. ,  0. ]]), array([[  0. ],\n",
       "       [-10. ],\n",
       "       [  0. ],\n",
       "       [  2.5]]), array([[0., 0., 1., 0.]]), array([[0.]]))"
      ]
     },
     "execution_count": 37,
     "metadata": {},
     "output_type": "execute_result"
    }
   ],
   "source": [
    "sys = ct.ss(A, B, C, D)\n",
    "sys"
   ]
  },
  {
   "cell_type": "code",
   "execution_count": 45,
   "id": "0a387c5d",
   "metadata": {},
   "outputs": [
    {
     "data": {
      "text/latex": [
       "$$\\frac{1.749 \\times 10^{-15} s^3 + 2.5 s^2 + 4.611 \\times 10^{-15} s - 98}{s^4 - 58.8 s^2}$$"
      ],
      "text/plain": [
       "TransferFunction(array([ 1.74860126e-15,  2.50000000e+00,  4.61149518e-15, -9.80000000e+01]), array([  1. ,   0. , -58.8,   0. ,   0. ]))"
      ]
     },
     "execution_count": 45,
     "metadata": {},
     "output_type": "execute_result"
    }
   ],
   "source": [
    "G = ct.ss2tf(sys)\n",
    "G"
   ]
  },
  {
   "cell_type": "code",
   "execution_count": 65,
   "id": "b5ef3a85",
   "metadata": {},
   "outputs": [
    {
     "data": {
      "text/plain": [
       "array([ 1.74860126e-15,  2.50000000e+00,  4.61149518e-15, -9.80000000e+01])"
      ]
     },
     "execution_count": 65,
     "metadata": {},
     "output_type": "execute_result"
    }
   ],
   "source": [
    "A_s = G.num[0][0]\n",
    "A_s"
   ]
  },
  {
   "cell_type": "code",
   "execution_count": 66,
   "id": "9c23845f",
   "metadata": {},
   "outputs": [
    {
     "data": {
      "text/plain": [
       "array([  1. ,   0. , -58.8,   0. ,   0. ])"
      ]
     },
     "execution_count": 66,
     "metadata": {},
     "output_type": "execute_result"
    }
   ],
   "source": [
    "B_s = G.den[0][0]\n",
    "B_s"
   ]
  },
  {
   "cell_type": "markdown",
   "id": "054d9538",
   "metadata": {},
   "source": [
    "## Наблюдаемость"
   ]
  },
  {
   "cell_type": "markdown",
   "id": "00d82604",
   "metadata": {},
   "source": [
    "### Наблюдаемость по углу\n"
   ]
  },
  {
   "cell_type": "code",
   "execution_count": 21,
   "id": "2f579fb7",
   "metadata": {},
   "outputs": [
    {
     "name": "stdout",
     "output_type": "stream",
     "text": [
      "Рaзмер матрици наблюдаемости (4, 4)\n",
      "Ранг матрици наблюдаемости: 2\n"
     ]
    }
   ],
   "source": [
    "nabl = ct.obsv(A, C_theta)\n",
    "print(f\"Рaзмер матрици наблюдаемости {nabl.shape}\")\n",
    "print(f\"Ранг матрици наблюдаемости: {np.linalg.matrix_rank(nabl)}\")"
   ]
  },
  {
   "cell_type": "markdown",
   "id": "85bb47a4",
   "metadata": {},
   "source": [
    "Система не наблюдаема по углу"
   ]
  },
  {
   "cell_type": "markdown",
   "id": "58f54ae3",
   "metadata": {},
   "source": [
    "### Наблюдаемость по положению коретки"
   ]
  },
  {
   "cell_type": "code",
   "execution_count": 24,
   "id": "0723808a",
   "metadata": {},
   "outputs": [
    {
     "name": "stdout",
     "output_type": "stream",
     "text": [
      "Рaзмер матрици наблюдаемости (4, 4)\n",
      "Ранг матрици наблюдаемости: 4\n"
     ]
    }
   ],
   "source": [
    "nabl = ct.obsv(A, C)\n",
    "print(f\"Рaзмер матрици наблюдаемости {nabl.shape}\")\n",
    "print(f\"Ранг матрици наблюдаемости: {np.linalg.matrix_rank(nabl)}\")"
   ]
  },
  {
   "cell_type": "markdown",
   "id": "82008867",
   "metadata": {},
   "source": [
    "Система наблюдаема по положению коретки"
   ]
  },
  {
   "cell_type": "markdown",
   "id": "705238b7",
   "metadata": {},
   "source": [
    "## Управляемсть"
   ]
  },
  {
   "cell_type": "code",
   "execution_count": 25,
   "id": "927352a0",
   "metadata": {},
   "outputs": [
    {
     "name": "stdout",
     "output_type": "stream",
     "text": [
      "Ранг матрици упрвляемости: 4\n"
     ]
    }
   ],
   "source": [
    "upr = ct.ctrb(A, B)\n",
    "\n",
    "print(f\"Ранг матрици упрвляемости: {np.linalg.matrix_rank(upr)}\")"
   ]
  },
  {
   "cell_type": "markdown",
   "id": "2506e00a",
   "metadata": {},
   "source": [
    "Система управляема"
   ]
  },
  {
   "cell_type": "markdown",
   "id": "5921d1de",
   "metadata": {},
   "source": [
    "# Анализ устойчивости положения равновесия"
   ]
  },
  {
   "cell_type": "markdown",
   "id": "5b8e9e02",
   "metadata": {},
   "source": [
    "### Полюса и нули"
   ]
  },
  {
   "cell_type": "code",
   "execution_count": 28,
   "id": "62c9b4fc",
   "metadata": {},
   "outputs": [
    {
     "data": {
      "text/plain": [
       "array([ 0.        +0.j,  0.        +0.j,  7.66811581+0.j, -7.66811581+0.j])"
      ]
     },
     "execution_count": 28,
     "metadata": {},
     "output_type": "execute_result"
    }
   ],
   "source": [
    "poles = ct.poles(sys)\n",
    "poles"
   ]
  },
  {
   "cell_type": "code",
   "execution_count": 30,
   "id": "ab2f71cd",
   "metadata": {},
   "outputs": [
    {
     "data": {
      "text/plain": [
       "array([-6.26099034+0.j,  6.26099034+0.j])"
      ]
     },
     "execution_count": 30,
     "metadata": {},
     "output_type": "execute_result"
    }
   ],
   "source": [
    "zeros = ct.zeros(sys)\n",
    "zeros"
   ]
  },
  {
   "cell_type": "code",
   "execution_count": 36,
   "id": "e21d34f9",
   "metadata": {},
   "outputs": [
    {
     "data": {
      "text/plain": [
       "<matplotlib.legend.Legend at 0x18eb4c87530>"
      ]
     },
     "execution_count": 36,
     "metadata": {},
     "output_type": "execute_result"
    },
    {
     "data": {
      "image/png": "[encoded data removed]",
      "text/plain": [
       "<Figure size 600x400 with 1 Axes>"
      ]
     },
     "metadata": {},
     "output_type": "display_data"
    }
   ],
   "source": [
    "plt.figure(figsize=(6, 4))\n",
    "plt.scatter(np.real(poles), np.imag(poles), marker='x', color='g', s=50, label='Полюс')\n",
    "plt.scatter(np.real(zeros), np.imag(zeros), marker='o', color='b', s=50, label='Ноль')\n",
    "\n",
    "plt.legend()\n",
    "\n",
    "plt.axhline(0, color='k', linestyle='-', linewidth=0.5)\n",
    "plt.axvline(0, color='k', linestyle='-', linewidth=0.5)\n",
    "plt.grid(True, linestyle='--', alpha=0.5)\n",
    "\n",
    "plt.title('Карта полюсов и нулей системы', pad=20)\n",
    "plt.xlabel('Re', labelpad=10)\n",
    "plt.ylabel('Im', labelpad=10)\n",
    "plt.legend()"
   ]
  },
  {
   "cell_type": "markdown",
   "id": "661fca17",
   "metadata": {},
   "source": [
    "Системма не устойчева"
   ]
  },
  {
   "cell_type": "markdown",
   "id": "0229986a",
   "metadata": {},
   "source": [
    "# Синтез регулятора"
   ]
  },
  {
   "cell_type": "markdown",
   "id": "fc082d78",
   "metadata": {},
   "source": [
    "### Задаем переменные"
   ]
  },
  {
   "cell_type": "code",
   "execution_count": 216,
   "id": "3ec0d673",
   "metadata": {},
   "outputs": [],
   "source": [
    "s = sympy.symbols('s')\n",
    "a_1, a_2, a_3, a_0 = sympy.symbols('a_1, a_2, a_3, a_0')\n",
    "b_1, b_2, b_0 = sympy.symbols('b_1, b_2, b_0')"
   ]
  },
  {
   "cell_type": "code",
   "execution_count": 217,
   "id": "8af8a8c8",
   "metadata": {},
   "outputs": [
    {
     "data": {
      "text/latex": [
       "$\\displaystyle \\frac{2.5 s^{2} - 98.0}{s^{2} \\left(s^{2} - 58.8\\right)}$"
      ],
      "text/plain": [
       "(2.5*s**2 - 98.0)/(s**2*(s**2 - 58.8))"
      ]
     },
     "execution_count": 217,
     "metadata": {},
     "output_type": "execute_result"
    }
   ],
   "source": [
    "A_o = 1/M*(s**2-g/l)\n",
    "B_o = (s**2*(s**2-(M+m)/(l*M)*g))\n",
    "W_o = A_o/B_o\n",
    "W_o"
   ]
  },
  {
   "cell_type": "code",
   "execution_count": 218,
   "id": "60e20a61",
   "metadata": {},
   "outputs": [
    {
     "data": {
      "text/latex": [
       "$\\displaystyle \\frac{a_{0} + a_{1} s + a_{2} s^{2} + a_{3} s^{3}}{b_{0} + b_{1} s + b_{2} s^{2} + s^{3}}$"
      ],
      "text/plain": [
       "(a_0 + a_1*s + a_2*s**2 + a_3*s**3)/(b_0 + b_1*s + b_2*s**2 + s**3)"
      ]
     },
     "execution_count": 218,
     "metadata": {},
     "output_type": "execute_result"
    }
   ],
   "source": [
    "A_p = (a_3*s**3+a_2*s**2+a_1*s+a_0) \n",
    "B_p = (s**3+b_2*s**2+b_1*s+b_0)\n",
    "W_p = A_p/B_p\n",
    "W_p"
   ]
  },
  {
   "cell_type": "code",
   "execution_count": 219,
   "id": "c63c1b47",
   "metadata": {},
   "outputs": [
    {
     "data": {
      "text/latex": [
       "$\\displaystyle \\frac{\\left(2.5 s^{2} - 98.0\\right) \\left(b_{0} + b_{1} s + b_{2} s^{2} + s^{3}\\right)}{s^{2} \\left(s^{2} - 58.8\\right) \\left(b_{0} + b_{1} s + b_{2} s^{2} + s^{3}\\right) + \\left(2.5 s^{2} - 98.0\\right) \\left(a_{0} + a_{1} s + a_{2} s^{2} + a_{3} s^{3}\\right)}$"
      ],
      "text/plain": [
       "(2.5*s**2 - 98.0)*(b_0 + b_1*s + b_2*s**2 + s**3)/(s**2*(s**2 - 58.8)*(b_0 + b_1*s + b_2*s**2 + s**3) + (2.5*s**2 - 98.0)*(a_0 + a_1*s + a_2*s**2 + a_3*s**3))"
      ]
     },
     "execution_count": 219,
     "metadata": {},
     "output_type": "execute_result"
    }
   ],
   "source": [
    "A_s = A_o*B_p\n",
    "B_s = A_o*A_p + B_o*B_p\n",
    "W_s = sympy.together(A_s/B_s)\n",
    "W_s"
   ]
  },
  {
   "cell_type": "code",
   "execution_count": 225,
   "id": "29fdb8c4",
   "metadata": {},
   "outputs": [
    {
     "data": {
      "text/latex": [
       "$\\displaystyle \\left(s + 1\\right)^{7}$"
      ],
      "text/plain": [
       "(s + 1)**7"
      ]
     },
     "execution_count": 225,
     "metadata": {},
     "output_type": "execute_result"
    }
   ],
   "source": [
    "a = [-0.2, -0.4, -1, -1.2247, -2, -4, -8]\n",
    "polynom = sympy.prod(sympy.Array([s]*7)-sympy.Array(a))\n",
    "polynom = sympy.cancel(polynom)\n",
    "polynom = (s + 1)**7\n",
    "polynom"
   ]
  },
  {
   "cell_type": "code",
   "execution_count": 226,
   "id": "ad11a188",
   "metadata": {},
   "outputs": [
    {
     "data": {
      "text/latex": [
       "$\\displaystyle s^{2} \\left(s^{2} - 58.8\\right) \\left(b_{0} + b_{1} s + b_{2} s^{2} + s^{3}\\right) + \\left(2.5 s^{2} - 98.0\\right) \\left(a_{0} + a_{1} s + a_{2} s^{2} + a_{3} s^{3}\\right) = \\left(s + 1\\right)^{7}$"
      ],
      "text/plain": [
       "Eq(s**2*(s**2 - 58.8)*(b_0 + b_1*s + b_2*s**2 + s**3) + (2.5*s**2 - 98.0)*(a_0 + a_1*s + a_2*s**2 + a_3*s**3), (s + 1)**7)"
      ]
     },
     "execution_count": 226,
     "metadata": {},
     "output_type": "execute_result"
    }
   ],
   "source": [
    "eq = sympy.Eq(B_s, polynom)\n",
    "eq"
   ]
  },
  {
   "cell_type": "code",
   "execution_count": 231,
   "id": "df96f457",
   "metadata": {},
   "outputs": [
    {
     "data": {
      "text/plain": [
       "{a_0: -0.0102040816326531,\n",
       " a_1: -0.0714285714285714,\n",
       " a_2: 536.349092044981,\n",
       " a_3: 96.4779300291545,\n",
       " b_0: -894.272730112453,\n",
       " b_1: -161.394825072886,\n",
       " b_2: 7.00000000000000}"
      ]
     },
     "execution_count": 231,
     "metadata": {},
     "output_type": "execute_result"
    }
   ],
   "source": [
    "solv = sympy.solve(eq, [a_1, a_2, a_3, a_0, b_1, b_2, b_0])\n",
    "solv"
   ]
  },
  {
   "cell_type": "code",
   "execution_count": 241,
   "id": "c6693a73",
   "metadata": {},
   "outputs": [
    {
     "data": {
      "text/latex": [
       "$\\displaystyle s^{7} + 7 s^{6} + 21 s^{5} + 35 s^{4} + 35 s^{3} + 21 s^{2} + 7 s + 1$"
      ],
      "text/plain": [
       "s**7 + 7*s**6 + 21*s**5 + 35*s**4 + 35*s**3 + 21*s**2 + 7*s + 1"
      ]
     },
     "execution_count": 241,
     "metadata": {},
     "output_type": "execute_result"
    }
   ],
   "source": [
    "sympy.cancel((s+1)**7)"
   ]
  },
  {
   "cell_type": "code",
   "execution_count": 240,
   "id": "f2d2c995",
   "metadata": {},
   "outputs": [
    {
     "data": {
      "text/latex": [
       "$\\displaystyle 1.0 s^{7} + 7.0 s^{6} + 21.0 s^{5} + 35.0 s^{4} + 35.0000000000036 s^{3} + 21.0000000000073 s^{2} + 7.0 s + 1.0$"
      ],
      "text/plain": [
       "1.0*s**7 + 7.0*s**6 + 21.0*s**5 + 35.0*s**4 + 35.0000000000036*s**3 + 21.0000000000073*s**2 + 7.0*s + 1.0"
      ]
     },
     "execution_count": 240,
     "metadata": {},
     "output_type": "execute_result"
    }
   ],
   "source": [
    "sympy.cancel(B_s.subs(solv))"
   ]
  },
  {
   "cell_type": "code",
   "execution_count": 263,
   "id": "9854d6f6",
   "metadata": {},
   "outputs": [
    {
     "data": {
      "text/latex": [
       "$\\displaystyle \\left[\\begin{matrix}0 & 0 & 0 & -98 & 0 & 0 & 0\\\\0 & 0 & 0 & 0 & -98 & 0 & 0\\\\-58.8 & 0 & 0 & 2.5 & 0 & -98 & 0\\\\0 & -58.8 & 0 & 0 & 2.5 & 0 & -98\\\\1 & 0 & -58.8 & 0 & 0 & 2.5 & 0\\\\0 & 1 & 0 & 0 & 0 & 0 & 2.5\\\\0 & 0 & 1 & 0 & 0 & 0 & 0\\end{matrix}\\right]$"
      ],
      "text/plain": [
       "Matrix([\n",
       "[    0,     0,     0, -98,   0,   0,   0],\n",
       "[    0,     0,     0,   0, -98,   0,   0],\n",
       "[-58.8,     0,     0, 2.5,   0, -98,   0],\n",
       "[    0, -58.8,     0,   0, 2.5,   0, -98],\n",
       "[    1,     0, -58.8,   0,   0, 2.5,   0],\n",
       "[    0,     1,     0,   0,   0,   0, 2.5],\n",
       "[    0,     0,     1,   0,   0,   0,   0]])"
      ]
     },
     "execution_count": 263,
     "metadata": {},
     "output_type": "execute_result"
    }
   ],
   "source": [
    "A_M = sympy.Matrix([\n",
    "    [0, 0, 0, -98, 0, 0, 0],\n",
    "    [0, 0, 0, 0, -98, 0, 0],\n",
    "    [-58.8, 0, 0, 2.5, 0, -98, 0],\n",
    "    [0, -58.8, 0, 0, 2.5, 0, -98],\n",
    "    [1, 0, -58.8, 0, 0, 2.5, 0],\n",
    "    [0, 1, 0, 0, 0, 0, 2.5],\n",
    "    [0, 0, 1, 0, 0, 0, 0]\n",
    "])\n",
    "A_M"
   ]
  },
  {
   "cell_type": "code",
   "execution_count": 279,
   "id": "c1faf5bc",
   "metadata": {},
   "outputs": [
    {
     "data": {
      "text/latex": [
       "$\\displaystyle \\left[\\begin{matrix}1\\\\7\\\\21\\\\35\\\\35\\\\79.8\\\\7\\end{matrix}\\right]$"
      ],
      "text/plain": [
       "Matrix([\n",
       "[   1],\n",
       "[   7],\n",
       "[  21],\n",
       "[  35],\n",
       "[  35],\n",
       "[79.8],\n",
       "[   7]])"
      ]
     },
     "execution_count": 279,
     "metadata": {},
     "output_type": "execute_result"
    }
   ],
   "source": [
    "a_M = sympy.Matrix([1, 7, 21, 35, 35, 21+58.8, 7])\n",
    "a_M"
   ]
  },
  {
   "cell_type": "code",
   "execution_count": 280,
   "id": "1898966e",
   "metadata": {},
   "outputs": [
    {
     "data": {
      "text/latex": [
       "$\\displaystyle \\left[\\begin{matrix}b_{0}\\\\b_{1}\\\\b_{2}\\\\a_{0}\\\\a_{1}\\\\a_{2}\\\\a_{3}\\end{matrix}\\right]$"
      ],
      "text/plain": [
       "Matrix([\n",
       "[b_0],\n",
       "[b_1],\n",
       "[b_2],\n",
       "[a_0],\n",
       "[a_1],\n",
       "[a_2],\n",
       "[a_3]])"
      ]
     },
     "execution_count": 280,
     "metadata": {},
     "output_type": "execute_result"
    }
   ],
   "source": [
    "r_M = sympy.Matrix([b_0, b_1, b_2, a_0, a_1, a_2, a_3])\n",
    "r_M"
   ]
  },
  {
   "cell_type": "code",
   "execution_count": null,
   "id": "a50379ef",
   "metadata": {},
   "outputs": [
    {
     "data": {
      "text/latex": [
       "$\\displaystyle \\left[\\begin{matrix}- 98 a_{0}\\\\- 98 a_{1}\\\\2.5 a_{0} - 98 a_{2} - 58.8 b_{0}\\\\2.5 a_{1} - 98 a_{3} - 58.8 b_{1}\\\\2.5 a_{2} + b_{0} - 58.8 b_{2}\\\\2.5 a_{3} + b_{1}\\\\b_{2}\\end{matrix}\\right] = \\left[\\begin{matrix}1\\\\7\\\\21\\\\35\\\\35\\\\79.8\\\\7\\end{matrix}\\right]$"
      ],
      "text/plain": [
       "Eq(Matrix([\n",
       "[                    -98*a_0],\n",
       "[                    -98*a_1],\n",
       "[2.5*a_0 - 98*a_2 - 58.8*b_0],\n",
       "[2.5*a_1 - 98*a_3 - 58.8*b_1],\n",
       "[   2.5*a_2 + b_0 - 58.8*b_2],\n",
       "[              2.5*a_3 + b_1],\n",
       "[                        b_2]]), Matrix([\n",
       "[   1],\n",
       "[   7],\n",
       "[  21],\n",
       "[  35],\n",
       "[  35],\n",
       "[79.8],\n",
       "[   7]]))"
      ]
     },
     "execution_count": 281,
     "metadata": {},
     "output_type": "execute_result"
    }
   ],
   "source": [
    "eq = sympy.Eq(A_M*r_M, a_M)\n",
    "eq"
   ]
  },
  {
   "cell_type": "code",
   "execution_count": 282,
   "id": "4d877c3e",
   "metadata": {},
   "outputs": [
    {
     "data": {
      "text/plain": [
       "{a_0: -0.0102040816326531,\n",
       " a_1: -0.0714285714285714,\n",
       " a_2: 536.349092044981,\n",
       " a_3: 96.4779300291545,\n",
       " b_0: -894.272730112453,\n",
       " b_1: -161.394825072886,\n",
       " b_2: 7.00000000000000}"
      ]
     },
     "execution_count": 282,
     "metadata": {},
     "output_type": "execute_result"
    }
   ],
   "source": [
    "solv = sympy.solve(eq, [a_1, a_2, a_3, a_0, b_1, b_2, b_0])\n",
    "solv"
   ]
  },
  {
   "cell_type": "code",
   "execution_count": 283,
   "id": "7638a94c",
   "metadata": {},
   "outputs": [
    {
     "data": {
      "text/latex": [
       "$\\displaystyle 1.0 s^{7} + 7.0 s^{6} + 21.0 s^{5} + 35.0 s^{4} + 35.0000000000036 s^{3} + 21.0000000000073 s^{2} + 7.0 s + 1.0$"
      ],
      "text/plain": [
       "1.0*s**7 + 7.0*s**6 + 21.0*s**5 + 35.0*s**4 + 35.0000000000036*s**3 + 21.0000000000073*s**2 + 7.0*s + 1.0"
      ]
     },
     "execution_count": 283,
     "metadata": {},
     "output_type": "execute_result"
    }
   ],
   "source": [
    "sympy.cancel(B_s.subs(solv))"
   ]
  },
  {
   "cell_type": "code",
   "execution_count": null,
   "id": "dd17428a",
   "metadata": {},
   "outputs": [],
   "source": []
  }
 ],
 "metadata": {
  "kernelspec": {
   "display_name": "pythorch",
   "language": "python",
   "name": "python3"
  },
  "language_info": {
   "codemirror_mode": {
    "name": "ipython",
    "version": 3
   },
   "file_extension": ".py",
   "mimetype": "text/x-python",
   "name": "python",
   "nbconvert_exporter": "python",
   "pygments_lexer": "ipython3",
   "version": "3.12.2"
  }
 },
 "nbformat": 4,
 "nbformat_minor": 5
}
