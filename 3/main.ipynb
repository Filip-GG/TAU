{
 "cells": [
  {
   "cell_type": "markdown",
   "metadata": {},
   "source": [
    "Imports"
   ]
  },
  {
   "cell_type": "code",
   "execution_count": 35,
   "metadata": {},
   "outputs": [],
   "source": [
    "import torch\n",
    "import torch.nn as nn\n",
    "import torch.nn.functional as F\n",
    "import torch.optim as optim\n",
    "\n",
    "import numpy as np\n",
    "import matplotlib.pyplot as plt\n",
    "\n",
    "from tqdm import tqdm"
   ]
  },
  {
   "cell_type": "code",
   "execution_count": 36,
   "metadata": {},
   "outputs": [
    {
     "data": {
      "text/plain": [
       "device(type='cuda', index=0)"
      ]
     },
     "execution_count": 36,
     "metadata": {},
     "output_type": "execute_result"
    }
   ],
   "source": [
    "device = torch.device('cuda:0' if torch.cuda.is_available() else 'cpu')\n",
    "device"
   ]
  },
  {
   "cell_type": "markdown",
   "metadata": {},
   "source": [
    "dataset"
   ]
  },
  {
   "cell_type": "code",
   "execution_count": 37,
   "metadata": {},
   "outputs": [],
   "source": [
    "inp = ['''0.7 0.7 0.7 0.7 0.7 0.7 0.75 0.75 0.75 0.75 0.75 0.75 0.75 0.8 0.8 0.8 0.8 0.8 0.8 0.8 0.85 \n",
    "0.85 0.85 0.85 0.85 0.85 0.85 0.9 0.9 0.9 0.9 0.9 0.9 0.9 0.9 0.95 0.95 0.95 0.95 0.95 0.95 0.95 \n",
    "0.95 0.95 1 1 1 1 1 1 1 1 1.05 1.05 1.05 1.05 1.05 1.05 1.05 1.05 1.05 1.1 1.1 1.1 1.1 1.1 1.1 1.1 \n",
    "1.1 1.1 1.1''',\n",
    "'''245 280 340 400 440 465 265 320 360 400 440 460 495 280 320 360 420 480 520 530 \n",
    "300 360 400 440 480 520 560 315 360 400 440 480 520 560 600 \n",
    "330 380 420 460 500 540 580 620 630 350 420 450 500 540 580 620 665 \n",
    "370 420 480 525 550 580 620 660 695 385 420 460 490 510 560 600 640 680 730''',\n",
    "'''1.145 1.140 1.13 1.11 1.09 1.08 1.166 1.16 1.15 1.14 1.12 1.11 1.08 1.19 1.185 \n",
    "1.18 1.16 1.13 1.105 1.095 1.22 1.21 1.20 1.185 1.17 1.144 1.11 1.246 1.24 1.232 1.22 1.205 \n",
    "1.183 1.155 1.12 1.276 1.27 1.26 1.25 1.23 1.21 1.18 1.145 1.135 1.31 1.3 1.29 1.27 1.25 1.23 \n",
    "1.195 1.15 1.345 1.34 1.32 1.30 1.29 1.27 1.245 1.21 1.165 1.382 1.38 1.37 1.36 1.35 1.33 \n",
    "1.305 1.275 1.24 1.18'''\n",
    "]"
   ]
  },
  {
   "cell_type": "code",
   "execution_count": 38,
   "metadata": {},
   "outputs": [],
   "source": [
    "class Dataset(torch.utils.data.Dataset):\n",
    "    def __init__(self, inp):\n",
    "        super(Dataset, self).__init__()\n",
    "        self.data = list(zip(map(float, inp[0].split()), map(float, inp[1].split())))\n",
    "        self.data = torch.Tensor(self.data)\n",
    "        self.lable = list(map(float, inp[2].split()))\n",
    "        self.lable = torch.Tensor(self.lable)\n",
    "\n",
    "    def __getitem__(self, index):\n",
    "        data = self.data[index]\n",
    "        lable = self.lable[index]\n",
    "        return data, lable\n",
    "\n",
    "    def __len__(self):\n",
    "        return len(self.lable)"
   ]
  },
  {
   "cell_type": "code",
   "execution_count": 39,
   "metadata": {},
   "outputs": [],
   "source": [
    "data = Dataset(inp)"
   ]
  },
  {
   "cell_type": "code",
   "execution_count": 40,
   "metadata": {},
   "outputs": [
    {
     "data": {
      "text/plain": [
       "71"
      ]
     },
     "execution_count": 40,
     "metadata": {},
     "output_type": "execute_result"
    }
   ],
   "source": [
    "data.__len__()"
   ]
  },
  {
   "cell_type": "markdown",
   "metadata": {},
   "source": [
    "trai valid test split"
   ]
  },
  {
   "cell_type": "code",
   "execution_count": 41,
   "metadata": {},
   "outputs": [],
   "source": [
    "import torch.utils\n",
    "\n",
    "\n",
    "train, val, test = torch.utils.data.random_split(data, [61, 5, 5])"
   ]
  },
  {
   "cell_type": "markdown",
   "metadata": {},
   "source": [
    "Create dataloader"
   ]
  },
  {
   "cell_type": "code",
   "execution_count": 42,
   "metadata": {},
   "outputs": [],
   "source": [
    "dataloader_train = torch.utils.data.DataLoader(train, 1, shuffle=True)\n",
    "dataloader_val = torch.utils.data.DataLoader(val, 1, shuffle=True)\n",
    "dataloader_test = torch.utils.data.DataLoader(test, 1, shuffle=True)"
   ]
  },
  {
   "cell_type": "markdown",
   "metadata": {},
   "source": [
    "model (Net)"
   ]
  },
  {
   "cell_type": "code",
   "execution_count": 43,
   "metadata": {},
   "outputs": [],
   "source": [
    "class Net(nn.Module):\n",
    "    def __init__(self):\n",
    "        super(Net, self).__init__()\n",
    "        self.pipe = nn.Sequential(\n",
    "            nn.Linear(2, 10),\n",
    "            nn.ReLU(),\n",
    "            nn.Linear(10, 30),\n",
    "            nn.ReLU(),\n",
    "            nn.Linear(30, 10),\n",
    "            nn.ReLU(),\n",
    "            nn.Linear(10 , 1)\n",
    "        )\n",
    "\n",
    "\n",
    "    def forward(self, x):\n",
    "        x = self.pipe(x)\n",
    "        return x"
   ]
  },
  {
   "cell_type": "code",
   "execution_count": 44,
   "metadata": {},
   "outputs": [
    {
     "data": {
      "text/plain": [
       "Net(\n",
       "  (pipe): Sequential(\n",
       "    (0): Linear(in_features=2, out_features=10, bias=True)\n",
       "    (1): ReLU()\n",
       "    (2): Linear(in_features=10, out_features=30, bias=True)\n",
       "    (3): ReLU()\n",
       "    (4): Linear(in_features=30, out_features=10, bias=True)\n",
       "    (5): ReLU()\n",
       "    (6): Linear(in_features=10, out_features=1, bias=True)\n",
       "  )\n",
       ")"
      ]
     },
     "execution_count": 44,
     "metadata": {},
     "output_type": "execute_result"
    }
   ],
   "source": [
    "model = Net()\n",
    "model.to(device)"
   ]
  },
  {
   "cell_type": "markdown",
   "metadata": {},
   "source": [
    "test"
   ]
  },
  {
   "cell_type": "code",
   "execution_count": 45,
   "metadata": {},
   "outputs": [],
   "source": [
    "def test(model, dataloader):\n",
    "    score = []\n",
    "    for data in tqdm(dataloader):\n",
    "        inp, lable = data\n",
    "        inp, lable = inp.to(device), lable.to(device)\n",
    "\n",
    "        out = model(inp)\n",
    "\n",
    "        score.append(abs((lable-out).item()))\n",
    "    score = np.array(score)\n",
    "    return score.mean()\n",
    "        "
   ]
  },
  {
   "cell_type": "markdown",
   "metadata": {},
   "source": [
    "train"
   ]
  },
  {
   "cell_type": "code",
   "execution_count": 46,
   "metadata": {},
   "outputs": [],
   "source": [
    "def train(model, valloader, trainloader, optimizer, criterion, epoch):\n",
    "\n",
    "    loss_stats = {\n",
    "        \"loss_func\":[],\n",
    "        \"valid_loss\":[]\n",
    "    }\n",
    "\n",
    "    for ep in range(epoch):\n",
    "        model.train()\n",
    "        running_loss = 0\n",
    "        for data in (bar := tqdm(trainloader)):\n",
    "            inputs, labels = data\n",
    "            inputs, labels = inputs.to(device), labels.to(device)\n",
    "    \n",
    "            # zero the parameter gradients\n",
    "            optimizer.zero_grad()\n",
    "    \n",
    "            # forward + backward + optimize\n",
    "            outputs = model(inputs)\n",
    "            loss = criterion(outputs, labels)\n",
    "            loss.backward()\n",
    "            optimizer.step()\n",
    "    \n",
    "            running_loss += loss.item()\n",
    "\n",
    "            bar.set_description(f'epoch: {ep}\\tloss: {running_loss:.3F}')\n",
    "\n",
    "        loss_stats[\"loss_func\"].append(running_loss)\n",
    "\n",
    "        model.eval()\n",
    "\n",
    "        loss_stats[\"valid_loss\"].append(test(model, valloader))\n",
    "    return loss_stats"
   ]
  },
  {
   "cell_type": "code",
   "execution_count": 47,
   "metadata": {},
   "outputs": [],
   "source": [
    "optimizer = torch.optim.Adam(model.parameters(), lr=1e-2)\n",
    "criterion = nn.MSELoss()"
   ]
  },
  {
   "cell_type": "code",
   "execution_count": 48,
   "metadata": {},
   "outputs": [
    {
     "name": "stderr",
     "output_type": "stream",
     "text": [
      "  0%|          | 0/61 [00:00<?, ?it/s]C:\\Users\\Filic\\AppData\\Roaming\\Python\\Python311\\site-packages\\torch\\nn\\modules\\loss.py:535: UserWarning: Using a target size (torch.Size([1])) that is different to the input size (torch.Size([1, 1])). This will likely lead to incorrect results due to broadcasting. Please ensure they have the same size.\n",
      "  return F.mse_loss(input, target, reduction=self.reduction)\n",
      "epoch: 0\tloss: 693.023: 100%|██████████| 61/61 [00:00<00:00, 109.52it/s]\n",
      "100%|██████████| 5/5 [00:00<00:00, 554.71it/s]\n",
      "epoch: 1\tloss: 11.069: 100%|██████████| 61/61 [00:00<00:00, 129.52it/s]\n",
      "100%|██████████| 5/5 [00:00<00:00, 385.25it/s]\n",
      "epoch: 2\tloss: 8.663: 100%|██████████| 61/61 [00:00<00:00, 140.55it/s]\n",
      "100%|██████████| 5/5 [00:00<00:00, 554.82it/s]\n",
      "epoch: 3\tloss: 11.810: 100%|██████████| 61/61 [00:00<00:00, 141.53it/s]\n",
      "100%|██████████| 5/5 [00:00<00:00, 416.61it/s]\n",
      "epoch: 4\tloss: 11.579: 100%|██████████| 61/61 [00:00<00:00, 130.90it/s]\n",
      "100%|██████████| 5/5 [00:00<00:00, 416.82it/s]\n",
      "epoch: 5\tloss: 7.517: 100%|██████████| 61/61 [00:00<00:00, 138.32it/s]\n",
      "100%|██████████| 5/5 [00:00<00:00, 384.66it/s]\n",
      "epoch: 6\tloss: 5.602: 100%|██████████| 61/61 [00:00<00:00, 140.80it/s]\n",
      "100%|██████████| 5/5 [00:00<00:00, 500.07it/s]\n",
      "epoch: 7\tloss: 7.632: 100%|██████████| 61/61 [00:00<00:00, 146.64it/s]\n",
      "100%|██████████| 5/5 [00:00<00:00, 500.02it/s]\n",
      "epoch: 8\tloss: 5.119: 100%|██████████| 61/61 [00:00<00:00, 162.23it/s]\n",
      "100%|██████████| 5/5 [00:00<00:00, 624.69it/s]\n",
      "epoch: 9\tloss: 11.005: 100%|██████████| 61/61 [00:00<00:00, 149.52it/s]\n",
      "100%|██████████| 5/5 [00:00<00:00, 499.74it/s]\n",
      "epoch: 10\tloss: 4.073: 100%|██████████| 61/61 [00:00<00:00, 150.24it/s]\n",
      "100%|██████████| 5/5 [00:00<00:00, 832.01it/s]\n",
      "epoch: 11\tloss: 2.771: 100%|██████████| 61/61 [00:00<00:00, 128.44it/s]\n",
      "100%|██████████| 5/5 [00:00<00:00, 624.99it/s]\n",
      "epoch: 12\tloss: 2.563: 100%|██████████| 61/61 [00:00<00:00, 160.11it/s]\n",
      "100%|██████████| 5/5 [00:00<00:00, 625.05it/s]\n",
      "epoch: 13\tloss: 2.459: 100%|██████████| 61/61 [00:00<00:00, 158.03it/s]\n",
      "100%|██████████| 5/5 [00:00<00:00, 555.77it/s]\n",
      "epoch: 14\tloss: 1.915: 100%|██████████| 61/61 [00:00<00:00, 156.81it/s]\n",
      "100%|██████████| 5/5 [00:00<00:00, 554.55it/s]\n",
      "epoch: 15\tloss: 2.174: 100%|██████████| 61/61 [00:00<00:00, 151.36it/s]\n",
      "100%|██████████| 5/5 [00:00<00:00, 499.99it/s]\n",
      "epoch: 16\tloss: 2.033: 100%|██████████| 61/61 [00:00<00:00, 133.68it/s]\n",
      "100%|██████████| 5/5 [00:00<00:00, 416.62it/s]\n",
      "epoch: 17\tloss: 2.268: 100%|██████████| 61/61 [00:00<00:00, 112.58it/s]\n",
      "100%|██████████| 5/5 [00:00<00:00, 555.71it/s]\n",
      "epoch: 18\tloss: 1.649: 100%|██████████| 61/61 [00:00<00:00, 146.28it/s]\n",
      "100%|██████████| 5/5 [00:00<00:00, 625.08it/s]\n",
      "epoch: 19\tloss: 1.278: 100%|██████████| 61/61 [00:00<00:00, 146.99it/s]\n",
      "100%|██████████| 5/5 [00:00<00:00, 832.14it/s]\n",
      "epoch: 20\tloss: 1.735: 100%|██████████| 61/61 [00:00<00:00, 142.86it/s]\n",
      "100%|██████████| 5/5 [00:00<00:00, 624.86it/s]\n",
      "epoch: 21\tloss: 0.997: 100%|██████████| 61/61 [00:00<00:00, 122.68it/s]\n",
      "100%|██████████| 5/5 [00:00<00:00, 1260.53it/s]\n",
      "epoch: 22\tloss: 0.836: 100%|██████████| 61/61 [00:00<00:00, 148.14it/s]\n",
      "100%|██████████| 5/5 [00:00<00:00, 625.06it/s]\n",
      "epoch: 23\tloss: 0.754: 100%|██████████| 61/61 [00:00<00:00, 159.27it/s]\n",
      "100%|██████████| 5/5 [00:00<00:00, 555.38it/s]\n",
      "epoch: 24\tloss: 0.706: 100%|██████████| 61/61 [00:00<00:00, 143.53it/s]\n",
      "100%|██████████| 5/5 [00:00<00:00, 713.90it/s]\n"
     ]
    }
   ],
   "source": [
    "stats = train(\n",
    "    model, \n",
    "    dataloader_val,\n",
    "    dataloader_train,\n",
    "    optimizer,\n",
    "    criterion,\n",
    "    25\n",
    "    )"
   ]
  },
  {
   "cell_type": "code",
   "execution_count": 49,
   "metadata": {},
   "outputs": [
    {
     "data": {
      "image/png": "[encoded data removed]",
      "text/plain": [
       "<Figure size 640x480 with 1 Axes>"
      ]
     },
     "metadata": {},
     "output_type": "display_data"
    }
   ],
   "source": [
    "plt.title('Loss func')\n",
    "plt.xlabel('Num epoch')\n",
    "plt.ylabel('loss')\n",
    "\n",
    "plt.plot(stats['loss_func'], 'r')\n",
    "\n",
    "plt.tight_layout()\n",
    "\n",
    "plt.show()"
   ]
  },
  {
   "cell_type": "code",
   "execution_count": 50,
   "metadata": {},
   "outputs": [
    {
     "data": {
      "image/png": "[encoded data removed]",
      "text/plain": [
       "<Figure size 640x480 with 1 Axes>"
      ]
     },
     "metadata": {},
     "output_type": "display_data"
    }
   ],
   "source": [
    "plt.title('Valid Accuracy')\n",
    "plt.xlabel('Num epoch')\n",
    "plt.ylabel('Score')\n",
    "\n",
    "plt.plot(stats['valid_loss'], 'b', label='Valid score')\n",
    "\n",
    "plt.legend(fontsize=10)\n",
    "plt.tight_layout()\n",
    "\n",
    "plt.show()"
   ]
  },
  {
   "cell_type": "markdown",
   "metadata": {},
   "source": [
    "Test score"
   ]
  },
  {
   "cell_type": "code",
   "execution_count": 51,
   "metadata": {},
   "outputs": [
    {
     "name": "stderr",
     "output_type": "stream",
     "text": [
      "100%|██████████| 5/5 [00:00<00:00, 416.79it/s]"
     ]
    },
    {
     "name": "stdout",
     "output_type": "stream",
     "text": [
      "Test score: 0.08233523368835449\n"
     ]
    },
    {
     "name": "stderr",
     "output_type": "stream",
     "text": [
      "\n"
     ]
    }
   ],
   "source": [
    "print(f'Test score: {test(model, dataloader_test)}')"
   ]
  },
  {
   "cell_type": "code",
   "execution_count": 52,
   "metadata": {},
   "outputs": [],
   "source": [
    "class Net_1(nn.Module):\n",
    "    def __init__(self):\n",
    "        super(Net_1, self).__init__()\n",
    "        self.pipe = nn.Sequential(\n",
    "            nn.Linear(2, 1),\n",
    "        )\n",
    "\n",
    "\n",
    "    def forward(self, x):\n",
    "        x = self.pipe(x)\n",
    "        return x"
   ]
  },
  {
   "cell_type": "code",
   "execution_count": 53,
   "metadata": {},
   "outputs": [
    {
     "data": {
      "text/plain": [
       "Net_1(\n",
       "  (pipe): Sequential(\n",
       "    (0): Linear(in_features=2, out_features=1, bias=True)\n",
       "  )\n",
       ")"
      ]
     },
     "execution_count": 53,
     "metadata": {},
     "output_type": "execute_result"
    }
   ],
   "source": [
    "model_1 = Net_1()\n",
    "model_1.to(device)"
   ]
  },
  {
   "cell_type": "code",
   "execution_count": 54,
   "metadata": {},
   "outputs": [],
   "source": [
    "optimizer = torch.optim.Adam(model_1.parameters(), lr=1e-2)\n",
    "criterion = nn.MSELoss()"
   ]
  },
  {
   "cell_type": "code",
   "execution_count": 55,
   "metadata": {},
   "outputs": [
    {
     "name": "stderr",
     "output_type": "stream",
     "text": [
      "epoch: 0\tloss: 956696.963: 100%|██████████| 61/61 [00:00<00:00, 177.84it/s]\n",
      "100%|██████████| 5/5 [00:00<00:00, 1000.02it/s]\n",
      "epoch: 1\tloss: 2529.775: 100%|██████████| 61/61 [00:00<00:00, 177.39it/s]\n",
      "100%|██████████| 5/5 [00:00<00:00, 1000.36it/s]\n",
      "epoch: 2\tloss: 9.081: 100%|██████████| 61/61 [00:00<00:00, 166.07it/s]\n",
      "100%|██████████| 5/5 [00:00<00:00, 832.70it/s]\n",
      "epoch: 3\tloss: 0.633: 100%|██████████| 61/61 [00:00<00:00, 154.02it/s]\n",
      "100%|██████████| 5/5 [00:00<00:00, 1251.06it/s]\n",
      "epoch: 4\tloss: 0.615: 100%|██████████| 61/61 [00:00<00:00, 198.73it/s]\n",
      "100%|██████████| 5/5 [00:00<00:00, 833.96it/s]\n",
      "epoch: 5\tloss: 0.622: 100%|██████████| 61/61 [00:00<00:00, 177.84it/s]\n",
      "100%|██████████| 5/5 [00:00<00:00, 999.74it/s]\n",
      "epoch: 6\tloss: 0.614: 100%|██████████| 61/61 [00:00<00:00, 161.80it/s]\n",
      "100%|██████████| 5/5 [00:00<00:00, 1669.18it/s]\n",
      "epoch: 7\tloss: 0.617: 100%|██████████| 61/61 [00:00<00:00, 150.02it/s]\n",
      "100%|██████████| 5/5 [00:00<00:00, 625.60it/s]\n",
      "epoch: 8\tloss: 0.613: 100%|██████████| 61/61 [00:00<00:00, 163.54it/s]\n",
      "100%|██████████| 5/5 [00:00<00:00, 1250.17it/s]\n",
      "epoch: 9\tloss: 0.654: 100%|██████████| 61/61 [00:00<00:00, 141.86it/s]\n",
      "100%|██████████| 5/5 [00:00<00:00, 833.06it/s]\n",
      "epoch: 10\tloss: 0.602: 100%|██████████| 61/61 [00:00<00:00, 179.41it/s]\n",
      "100%|██████████| 5/5 [00:00<00:00, 714.61it/s]\n",
      "epoch: 11\tloss: 0.613: 100%|██████████| 61/61 [00:00<00:00, 175.29it/s]\n",
      "100%|██████████| 5/5 [00:00<00:00, 1666.26it/s]\n",
      "epoch: 12\tloss: 0.654: 100%|██████████| 61/61 [00:00<00:00, 154.80it/s]\n",
      "100%|██████████| 5/5 [00:00<00:00, 500.16it/s]\n",
      "epoch: 13\tloss: 0.632: 100%|██████████| 61/61 [00:00<00:00, 176.43it/s]\n",
      "100%|██████████| 5/5 [00:00<00:00, 357.04it/s]\n",
      "epoch: 14\tloss: 0.661: 100%|██████████| 61/61 [00:00<00:00, 128.96it/s]\n",
      "100%|██████████| 5/5 [00:00<00:00, 1249.87it/s]\n",
      "epoch: 15\tloss: 0.621: 100%|██████████| 61/61 [00:00<00:00, 151.74it/s]\n",
      "100%|██████████| 5/5 [00:00<00:00, 555.64it/s]\n",
      "epoch: 16\tloss: 0.678: 100%|██████████| 61/61 [00:00<00:00, 168.05it/s]\n",
      "100%|██████████| 5/5 [00:00<00:00, 993.35it/s]\n",
      "epoch: 17\tloss: 0.697: 100%|██████████| 61/61 [00:00<00:00, 165.31it/s]\n",
      "100%|██████████| 5/5 [00:00<00:00, 454.67it/s]\n",
      "epoch: 18\tloss: 0.616: 100%|██████████| 61/61 [00:00<00:00, 158.84it/s]\n",
      "100%|██████████| 5/5 [00:00<00:00, 999.12it/s]\n",
      "epoch: 19\tloss: 0.627: 100%|██████████| 61/61 [00:00<00:00, 165.76it/s]\n",
      "100%|██████████| 5/5 [00:00<00:00, 833.26it/s]\n",
      "epoch: 20\tloss: 0.609: 100%|██████████| 61/61 [00:00<00:00, 167.58it/s]\n",
      "100%|██████████| 5/5 [00:00<00:00, 1000.12it/s]\n",
      "epoch: 21\tloss: 0.634: 100%|██████████| 61/61 [00:00<00:00, 163.10it/s]\n",
      "100%|██████████| 5/5 [00:00<00:00, 1251.06it/s]\n",
      "epoch: 22\tloss: 0.623: 100%|██████████| 61/61 [00:00<00:00, 145.24it/s]\n",
      "100%|██████████| 5/5 [00:00<00:00, 1674.37it/s]\n",
      "epoch: 23\tloss: 0.616: 100%|██████████| 61/61 [00:00<00:00, 168.25it/s]\n",
      "100%|██████████| 5/5 [00:00<00:00, 1000.22it/s]\n",
      "epoch: 24\tloss: 0.642: 100%|██████████| 61/61 [00:00<00:00, 164.26it/s]\n",
      "100%|██████████| 5/5 [00:00<00:00, 1665.99it/s]\n"
     ]
    }
   ],
   "source": [
    "stats = train(\n",
    "    model_1, \n",
    "    dataloader_val,\n",
    "    dataloader_train,\n",
    "    optimizer,\n",
    "    criterion,\n",
    "    25\n",
    "    )"
   ]
  },
  {
   "cell_type": "code",
   "execution_count": 56,
   "metadata": {},
   "outputs": [
    {
     "data": {
      "image/png": "[encoded data removed]",
      "text/plain": [
       "<Figure size 640x480 with 1 Axes>"
      ]
     },
     "metadata": {},
     "output_type": "display_data"
    }
   ],
   "source": [
    "plt.title('Loss func')\n",
    "plt.xlabel('Num epoch')\n",
    "plt.ylabel('loss')\n",
    "\n",
    "plt.plot(stats['loss_func'], 'r')\n",
    "\n",
    "plt.tight_layout()\n",
    "\n",
    "plt.show()"
   ]
  },
  {
   "cell_type": "code",
   "execution_count": 57,
   "metadata": {},
   "outputs": [
    {
     "data": {
      "image/png": "[encoded data removed]",
      "text/plain": [
       "<Figure size 640x480 with 1 Axes>"
      ]
     },
     "metadata": {},
     "output_type": "display_data"
    }
   ],
   "source": [
    "plt.title('Valid Accuracy')\n",
    "plt.xlabel('Num epoch')\n",
    "plt.ylabel('Score')\n",
    "\n",
    "plt.plot(stats['valid_loss'], 'b', label='Valid score')\n",
    "\n",
    "plt.legend(fontsize=10)\n",
    "plt.tight_layout()\n",
    "\n",
    "plt.show()"
   ]
  },
  {
   "cell_type": "code",
   "execution_count": 67,
   "metadata": {},
   "outputs": [
    {
     "name": "stderr",
     "output_type": "stream",
     "text": [
      "100%|██████████| 5/5 [00:00<00:00, 453.91it/s]"
     ]
    },
    {
     "name": "stdout",
     "output_type": "stream",
     "text": [
      "Test score: 0.08335776329040527\n"
     ]
    },
    {
     "name": "stderr",
     "output_type": "stream",
     "text": [
      "\n"
     ]
    }
   ],
   "source": [
    "print(f'Test score: {test(model_1, dataloader_test)}')"
   ]
  },
  {
   "cell_type": "code",
   "execution_count": 58,
   "metadata": {},
   "outputs": [],
   "source": [
    "class Net_2(nn.Module):\n",
    "    def __init__(self):\n",
    "        super(Net_2, self).__init__()\n",
    "        self.pipe = nn.Sequential(\n",
    "            nn.Linear(2, 50),\n",
    "            nn.ReLU(),\n",
    "            nn.Linear(50, 1)\n",
    "        )\n",
    "\n",
    "\n",
    "    def forward(self, x):\n",
    "        x = self.pipe(x)\n",
    "        return x"
   ]
  },
  {
   "cell_type": "code",
   "execution_count": 59,
   "metadata": {},
   "outputs": [
    {
     "data": {
      "text/plain": [
       "Net_2(\n",
       "  (pipe): Sequential(\n",
       "    (0): Linear(in_features=2, out_features=50, bias=True)\n",
       "    (1): ReLU()\n",
       "    (2): Linear(in_features=50, out_features=1, bias=True)\n",
       "  )\n",
       ")"
      ]
     },
     "execution_count": 59,
     "metadata": {},
     "output_type": "execute_result"
    }
   ],
   "source": [
    "model_2 = Net_2()\n",
    "model_2.to(device)"
   ]
  },
  {
   "cell_type": "code",
   "execution_count": 60,
   "metadata": {},
   "outputs": [],
   "source": [
    "optimizer = torch.optim.Adam(model_2.parameters(), lr=1e-2)\n",
    "criterion = nn.MSELoss()"
   ]
  },
  {
   "cell_type": "code",
   "execution_count": 61,
   "metadata": {},
   "outputs": [
    {
     "name": "stderr",
     "output_type": "stream",
     "text": [
      "epoch: 0\tloss: 12565.830: 100%|██████████| 61/61 [00:00<00:00, 134.80it/s]\n",
      "100%|██████████| 5/5 [00:00<00:00, 1250.17it/s]\n",
      "epoch: 1\tloss: 103.877: 100%|██████████| 61/61 [00:00<00:00, 155.61it/s]\n",
      "100%|██████████| 5/5 [00:00<00:00, 712.76it/s]\n",
      "epoch: 2\tloss: 14.172: 100%|██████████| 61/61 [00:00<00:00, 161.38it/s]\n",
      "100%|██████████| 5/5 [00:00<00:00, 834.19it/s]\n",
      "epoch: 3\tloss: 9.018: 100%|██████████| 61/61 [00:00<00:00, 153.75it/s]\n",
      "100%|██████████| 5/5 [00:00<00:00, 1668.51it/s]\n",
      "epoch: 4\tloss: 28.781: 100%|██████████| 61/61 [00:00<00:00, 150.77it/s]\n",
      "100%|██████████| 5/5 [00:00<00:00, 555.52it/s]\n",
      "epoch: 5\tloss: 43.163: 100%|██████████| 61/61 [00:00<00:00, 165.77it/s]\n",
      "100%|██████████| 5/5 [00:00<00:00, 831.02it/s]\n",
      "epoch: 6\tloss: 24.181: 100%|██████████| 61/61 [00:00<00:00, 167.58it/s]\n",
      "100%|██████████| 5/5 [00:00<00:00, 454.59it/s]\n",
      "epoch: 7\tloss: 62.335: 100%|██████████| 61/61 [00:00<00:00, 178.36it/s]\n",
      "100%|██████████| 5/5 [00:00<00:00, 999.93it/s]\n",
      "epoch: 8\tloss: 24.323: 100%|██████████| 61/61 [00:00<00:00, 174.29it/s]\n",
      "100%|██████████| 5/5 [00:00<00:00, 624.32it/s]\n",
      "epoch: 9\tloss: 66.131: 100%|██████████| 61/61 [00:00<00:00, 156.44it/s]\n",
      "100%|██████████| 5/5 [00:00<00:00, 499.94it/s]\n",
      "epoch: 10\tloss: 58.153: 100%|██████████| 61/61 [00:00<00:00, 176.30it/s]\n",
      "100%|██████████| 5/5 [00:00<00:00, 1245.34it/s]\n",
      "epoch: 11\tloss: 82.414: 100%|██████████| 61/61 [00:00<00:00, 173.79it/s]\n",
      "100%|██████████| 5/5 [00:00<00:00, 625.16it/s]\n",
      "epoch: 12\tloss: 106.302: 100%|██████████| 61/61 [00:00<00:00, 179.41it/s]\n",
      "100%|██████████| 5/5 [00:00<00:00, 996.89it/s]\n",
      "epoch: 13\tloss: 322.584: 100%|██████████| 61/61 [00:00<00:00, 166.67it/s]\n",
      "100%|██████████| 5/5 [00:00<00:00, 625.25it/s]\n",
      "epoch: 14\tloss: 375.335: 100%|██████████| 61/61 [00:00<00:00, 155.61it/s]\n",
      "100%|██████████| 5/5 [00:00<00:00, 555.65it/s]\n",
      "epoch: 15\tloss: 18.312: 100%|██████████| 61/61 [00:00<00:00, 167.93it/s]\n",
      "100%|██████████| 5/5 [00:00<00:00, 999.55it/s]\n",
      "epoch: 16\tloss: 3019.574: 100%|██████████| 61/61 [00:00<00:00, 169.44it/s]\n",
      "100%|██████████| 5/5 [00:00<00:00, 713.39it/s]\n",
      "epoch: 17\tloss: 10225.059: 100%|██████████| 61/61 [00:00<00:00, 168.97it/s]\n",
      "100%|██████████| 5/5 [00:00<00:00, 1003.76it/s]\n",
      "epoch: 18\tloss: 1049.907: 100%|██████████| 61/61 [00:00<00:00, 167.12it/s]\n",
      "100%|██████████| 5/5 [00:00<00:00, 625.01it/s]\n",
      "epoch: 19\tloss: 8.168: 100%|██████████| 61/61 [00:00<00:00, 166.21it/s]\n",
      "100%|██████████| 5/5 [00:00<00:00, 714.17it/s]\n",
      "epoch: 20\tloss: 6.576: 100%|██████████| 61/61 [00:00<00:00, 154.43it/s]\n",
      "100%|██████████| 5/5 [00:00<00:00, 625.29it/s]\n",
      "epoch: 21\tloss: 11.270: 100%|██████████| 61/61 [00:00<00:00, 158.20it/s]\n",
      "100%|██████████| 5/5 [00:00<00:00, 714.19it/s]\n",
      "epoch: 22\tloss: 6.076: 100%|██████████| 61/61 [00:00<00:00, 167.54it/s]\n",
      "100%|██████████| 5/5 [00:00<00:00, 833.39it/s]\n",
      "epoch: 23\tloss: 7.538: 100%|██████████| 61/61 [00:00<00:00, 177.04it/s]\n",
      "100%|██████████| 5/5 [00:00<00:00, 625.16it/s]\n",
      "epoch: 24\tloss: 6.037: 100%|██████████| 61/61 [00:00<00:00, 156.01it/s]\n",
      "100%|██████████| 5/5 [00:00<00:00, 1000.69it/s]\n"
     ]
    }
   ],
   "source": [
    "stats = train(\n",
    "    model_2, \n",
    "    dataloader_val,\n",
    "    dataloader_train,\n",
    "    optimizer,\n",
    "    criterion,\n",
    "    25\n",
    "    )"
   ]
  },
  {
   "cell_type": "code",
   "execution_count": 62,
   "metadata": {},
   "outputs": [
    {
     "data": {
      "image/png": "[encoded data removed]",
      "text/plain": [
       "<Figure size 640x480 with 1 Axes>"
      ]
     },
     "metadata": {},
     "output_type": "display_data"
    }
   ],
   "source": [
    "plt.title('Loss func')\n",
    "plt.xlabel('Num epoch')\n",
    "plt.ylabel('loss')\n",
    "\n",
    "plt.plot(stats['loss_func'], 'r')\n",
    "\n",
    "plt.tight_layout()\n",
    "\n",
    "plt.show()"
   ]
  },
  {
   "cell_type": "code",
   "execution_count": 63,
   "metadata": {},
   "outputs": [
    {
     "data": {
      "image/png": "[encoded data removed]",
      "text/plain": [
       "<Figure size 640x480 with 1 Axes>"
      ]
     },
     "metadata": {},
     "output_type": "display_data"
    }
   ],
   "source": [
    "plt.title('Valid Accuracy')\n",
    "plt.xlabel('Num epoch')\n",
    "plt.ylabel('Score')\n",
    "\n",
    "plt.plot(stats['valid_loss'], 'b', label='Valid score')\n",
    "\n",
    "plt.legend(fontsize=10)\n",
    "plt.tight_layout()\n",
    "\n",
    "plt.show()"
   ]
  },
  {
   "cell_type": "code",
   "execution_count": 68,
   "metadata": {},
   "outputs": [
    {
     "name": "stderr",
     "output_type": "stream",
     "text": [
      "100%|██████████| 5/5 [00:00<00:00, 384.65it/s]"
     ]
    },
    {
     "name": "stdout",
     "output_type": "stream",
     "text": [
      "Test score: 0.21740777492523194\n"
     ]
    },
    {
     "name": "stderr",
     "output_type": "stream",
     "text": [
      "\n"
     ]
    }
   ],
   "source": [
    "print(f'Test score: {test(model_2, dataloader_test)}')"
   ]
  },
  {
   "cell_type": "code",
   "execution_count": 64,
   "metadata": {},
   "outputs": [],
   "source": [
    "all_loader = torch.utils.data.DataLoader(data, 1, shuffle=True)"
   ]
  },
  {
   "cell_type": "code",
   "execution_count": 75,
   "metadata": {},
   "outputs": [],
   "source": [
    "x = []\n",
    "y = []\n",
    "x_pred = []\n",
    "\n",
    "for data in all_loader:\n",
    "    inputs, labels = data\n",
    "    inputs, labels = inputs.to(device), labels.to(device)\n",
    "\n",
    "    outputs = model_2(inputs)\n",
    "    y.append(inputs[0][1].item())\n",
    "    x.append(outputs[0].item())\n",
    "    x_pred.append(labels[0].item())"
   ]
  },
  {
   "cell_type": "code",
   "execution_count": null,
   "metadata": {},
   "outputs": [],
   "source": []
  }
 ],
 "metadata": {
  "kernelspec": {
   "display_name": "pytorch",
   "language": "python",
   "name": "python3"
  },
  "language_info": {
   "codemirror_mode": {
    "name": "ipython",
    "version": 3
   },
   "file_extension": ".py",
   "mimetype": "text/x-python",
   "name": "python",
   "nbconvert_exporter": "python",
   "pygments_lexer": "ipython3",
   "version": "3.11.9"
  }
 },
 "nbformat": 4,
 "nbformat_minor": 2
}
