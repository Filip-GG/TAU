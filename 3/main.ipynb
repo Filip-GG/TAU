{
 "cells": [
  {
   "cell_type": "markdown",
   "metadata": {},
   "source": [
    "Imports"
   ]
  },
  {
   "cell_type": "code",
   "execution_count": 1,
   "metadata": {},
   "outputs": [],
   "source": [
    "import torch\n",
    "import torch.nn as nn\n",
    "import torch.nn.functional as F\n",
    "import torch.optim as optim\n",
    "\n",
    "import numpy as np\n",
    "import matplotlib.pyplot as plt\n",
    "\n",
    "from tqdm import tqdm"
   ]
  },
  {
   "cell_type": "code",
   "execution_count": 2,
   "metadata": {},
   "outputs": [
    {
     "data": {
      "text/plain": [
       "device(type='cuda', index=0)"
      ]
     },
     "execution_count": 2,
     "metadata": {},
     "output_type": "execute_result"
    }
   ],
   "source": [
    "device = torch.device('cuda:0' if torch.cuda.is_available() else 'cpu')\n",
    "device"
   ]
  },
  {
   "cell_type": "markdown",
   "metadata": {},
   "source": [
    "dataset"
   ]
  },
  {
   "cell_type": "code",
   "execution_count": 3,
   "metadata": {},
   "outputs": [],
   "source": [
    "inp = ['''0.7 0.7 0.7 0.7 0.7 0.7 0.75 0.75 0.75 0.75 0.75 0.75 0.75 0.8 0.8 0.8 0.8 0.8 0.8 0.8 0.85 \n",
    "0.85 0.85 0.85 0.85 0.85 0.85 0.9 0.9 0.9 0.9 0.9 0.9 0.9 0.9 0.95 0.95 0.95 0.95 0.95 0.95 0.95 \n",
    "0.95 0.95 1 1 1 1 1 1 1 1 1.05 1.05 1.05 1.05 1.05 1.05 1.05 1.05 1.05 1.1 1.1 1.1 1.1 1.1 1.1 1.1 \n",
    "1.1 1.1 1.1''',\n",
    "'''245 280 340 400 440 465 265 320 360 400 440 460 495 280 320 360 420 480 520 530 \n",
    "300 360 400 440 480 520 560 315 360 400 440 480 520 560 600 \n",
    "330 380 420 460 500 540 580 620 630 350 420 450 500 540 580 620 665 \n",
    "370 420 480 525 550 580 620 660 695 385 420 460 490 510 560 600 640 680 730''',\n",
    "'''1.145 1.140 1.13 1.11 1.09 1.08 1.166 1.16 1.15 1.14 1.12 1.11 1.08 1.19 1.185 \n",
    "1.18 1.16 1.13 1.105 1.095 1.22 1.21 1.20 1.185 1.17 1.144 1.11 1.246 1.24 1.232 1.22 1.205 \n",
    "1.183 1.155 1.12 1.276 1.27 1.26 1.25 1.23 1.21 1.18 1.145 1.135 1.31 1.3 1.29 1.27 1.25 1.23 \n",
    "1.195 1.15 1.345 1.34 1.32 1.30 1.29 1.27 1.245 1.21 1.165 1.382 1.38 1.37 1.36 1.35 1.33 \n",
    "1.305 1.275 1.24 1.18'''\n",
    "]"
   ]
  },
  {
   "cell_type": "code",
   "execution_count": 4,
   "metadata": {},
   "outputs": [],
   "source": [
    "class Dataset(torch.utils.data.Dataset):\n",
    "    def __init__(self, inp):\n",
    "        super(Dataset, self).__init__()\n",
    "        self.data = list(zip(map(float, inp[0].split()), map(float, inp[1].split())))\n",
    "        self.data = torch.Tensor(self.data)\n",
    "        self.lable = list(map(float, inp[2].split()))\n",
    "        self.lable = torch.Tensor(self.lable)\n",
    "\n",
    "    def __getitem__(self, index):\n",
    "        data = self.data[index]\n",
    "        lable = self.lable[index]\n",
    "        return data, lable\n",
    "\n",
    "    def __len__(self):\n",
    "        return len(self.lable)"
   ]
  },
  {
   "cell_type": "code",
   "execution_count": 5,
   "metadata": {},
   "outputs": [],
   "source": [
    "data = Dataset(inp)"
   ]
  },
  {
   "cell_type": "code",
   "execution_count": 6,
   "metadata": {},
   "outputs": [
    {
     "data": {
      "text/plain": [
       "71"
      ]
     },
     "execution_count": 6,
     "metadata": {},
     "output_type": "execute_result"
    }
   ],
   "source": [
    "data.__len__()"
   ]
  },
  {
   "cell_type": "markdown",
   "metadata": {},
   "source": [
    "trai valid test split"
   ]
  },
  {
   "cell_type": "code",
   "execution_count": 7,
   "metadata": {},
   "outputs": [],
   "source": [
    "import torch.utils\n",
    "\n",
    "\n",
    "train, val, test = torch.utils.data.random_split(data, [51, 10, 10])"
   ]
  },
  {
   "cell_type": "markdown",
   "metadata": {},
   "source": [
    "Create dataloader"
   ]
  },
  {
   "cell_type": "code",
   "execution_count": 8,
   "metadata": {},
   "outputs": [],
   "source": [
    "dataloader_train = torch.utils.data.DataLoader(train, 1, shuffle=True)\n",
    "dataloader_val = torch.utils.data.DataLoader(val, 1, shuffle=True)\n",
    "dataloader_test = torch.utils.data.DataLoader(test, 1, shuffle=True)"
   ]
  },
  {
   "cell_type": "markdown",
   "metadata": {},
   "source": [
    "model (Net)"
   ]
  },
  {
   "cell_type": "code",
   "execution_count": 9,
   "metadata": {},
   "outputs": [],
   "source": [
    "class Net(nn.Module):\n",
    "    def __init__(self):\n",
    "        super(Net, self).__init__()\n",
    "        self.pipe = nn.Sequential(\n",
    "            nn.Linear(2, 10),\n",
    "            nn.ReLU(),\n",
    "            \n",
    "            nn.Linear(10 , 1)\n",
    "        )\n",
    "\n",
    "\n",
    "    def forward(self, x):\n",
    "        x = self.pipe(x)\n",
    "        return x"
   ]
  },
  {
   "cell_type": "code",
   "execution_count": 10,
   "metadata": {},
   "outputs": [
    {
     "data": {
      "text/plain": [
       "Net(\n",
       "  (pipe): Sequential(\n",
       "    (0): Linear(in_features=2, out_features=10, bias=True)\n",
       "    (1): ReLU()\n",
       "    (2): Linear(in_features=10, out_features=1, bias=True)\n",
       "  )\n",
       ")"
      ]
     },
     "execution_count": 10,
     "metadata": {},
     "output_type": "execute_result"
    }
   ],
   "source": [
    "model = Net()\n",
    "model.to(device)"
   ]
  },
  {
   "cell_type": "markdown",
   "metadata": {},
   "source": [
    "test"
   ]
  },
  {
   "cell_type": "code",
   "execution_count": 11,
   "metadata": {},
   "outputs": [],
   "source": [
    "def test(model, dataloader):\n",
    "    score = []\n",
    "    for data in tqdm(dataloader):\n",
    "        inp, lable = data\n",
    "        inp, lable = inp.to(device), lable.to(device)\n",
    "\n",
    "        out = model(inp)\n",
    "\n",
    "        score.append(abs((lable-out).item()))\n",
    "    score = np.array(score)\n",
    "    return score.mean()\n",
    "        "
   ]
  },
  {
   "cell_type": "markdown",
   "metadata": {},
   "source": [
    "train"
   ]
  },
  {
   "cell_type": "code",
   "execution_count": 12,
   "metadata": {},
   "outputs": [],
   "source": [
    "def train(model, valloader, trainloader, optimizer, criterion, epoch):\n",
    "\n",
    "    loss_stats = {\n",
    "        \"loss_func\":[],\n",
    "        \"valid_loss\":[]\n",
    "    }\n",
    "\n",
    "    for ep in range(epoch):\n",
    "        model.train()\n",
    "        running_loss = 0\n",
    "        for data in (bar := tqdm(trainloader)):\n",
    "            inputs, labels = data\n",
    "            inputs, labels = inputs.to(device), labels.to(device)\n",
    "    \n",
    "            # zero the parameter gradients\n",
    "            optimizer.zero_grad()\n",
    "    \n",
    "            # forward + backward + optimize\n",
    "            outputs = model(inputs)\n",
    "            loss = criterion(outputs, labels)\n",
    "            loss.backward()\n",
    "            optimizer.step()\n",
    "    \n",
    "            running_loss += loss.item()\n",
    "\n",
    "            bar.set_description(f'epoch: {ep}\\tloss: {running_loss:.3F}')\n",
    "\n",
    "        loss_stats[\"loss_func\"].append(running_loss)\n",
    "\n",
    "        model.eval()\n",
    "\n",
    "        loss_stats[\"valid_loss\"].append(test(model, valloader))\n",
    "    return loss_stats"
   ]
  },
  {
   "cell_type": "code",
   "execution_count": 13,
   "metadata": {},
   "outputs": [],
   "source": [
    "optimizer = torch.optim.Adam(model.parameters(), lr=1e-2)\n",
    "criterion = nn.MSELoss()"
   ]
  },
  {
   "cell_type": "code",
   "execution_count": 14,
   "metadata": {},
   "outputs": [
    {
     "name": "stderr",
     "output_type": "stream",
     "text": [
      "  0%|          | 0/51 [00:00<?, ?it/s]c:\\Users\\Filic\\.conda\\envs\\pythorch\\Lib\\site-packages\\torch\\nn\\modules\\loss.py:535: UserWarning: Using a target size (torch.Size([1])) that is different to the input size (torch.Size([1, 1])). This will likely lead to incorrect results due to broadcasting. Please ensure they have the same size.\n",
      "  return F.mse_loss(input, target, reduction=self.reduction)\n",
      "epoch: 0\tloss: 87007.807: 100%|██████████| 51/51 [00:00<00:00, 158.39it/s]\n",
      "100%|██████████| 10/10 [00:00<00:00, 713.45it/s]\n",
      "epoch: 1\tloss: 223.968: 100%|██████████| 51/51 [00:00<00:00, 320.75it/s]\n",
      "100%|██████████| 10/10 [00:00<00:00, 1659.53it/s]\n",
      "epoch: 2\tloss: 4.836: 100%|██████████| 51/51 [00:00<00:00, 298.25it/s]\n",
      "100%|██████████| 10/10 [00:00<00:00, 1428.14it/s]\n",
      "epoch: 3\tloss: 5.406: 100%|██████████| 51/51 [00:00<00:00, 303.57it/s]\n",
      "100%|██████████| 10/10 [00:00<00:00, 1666.19it/s]\n",
      "epoch: 4\tloss: 3.985: 100%|██████████| 51/51 [00:00<00:00, 303.56it/s]\n",
      "100%|██████████| 10/10 [00:00<00:00, 1111.49it/s]\n",
      "epoch: 5\tloss: 4.769: 100%|██████████| 51/51 [00:00<00:00, 227.68it/s]\n",
      "100%|██████████| 10/10 [00:00<00:00, 1429.41it/s]\n",
      "epoch: 6\tloss: 4.517: 100%|██████████| 51/51 [00:00<00:00, 266.99it/s]\n",
      "100%|██████████| 10/10 [00:00<00:00, 384.68it/s]\n",
      "epoch: 7\tloss: 5.241: 100%|██████████| 51/51 [00:00<00:00, 131.78it/s]\n",
      "100%|██████████| 10/10 [00:00<00:00, 1429.80it/s]\n",
      "epoch: 8\tloss: 4.291: 100%|██████████| 51/51 [00:00<00:00, 258.08it/s]\n",
      "100%|██████████| 10/10 [00:00<00:00, 1249.98it/s]\n",
      "epoch: 9\tloss: 5.574: 100%|██████████| 51/51 [00:00<00:00, 281.76it/s]\n",
      "100%|██████████| 10/10 [00:00<00:00, 1428.72it/s]\n",
      "epoch: 10\tloss: 5.306: 100%|██████████| 51/51 [00:00<00:00, 307.22it/s]\n",
      "100%|██████████| 10/10 [00:00<00:00, 1666.06it/s]\n",
      "epoch: 11\tloss: 4.069: 100%|██████████| 51/51 [00:00<00:00, 289.77it/s]\n",
      "100%|██████████| 10/10 [00:00<00:00, 1249.83it/s]\n",
      "epoch: 12\tloss: 5.160: 100%|██████████| 51/51 [00:00<00:00, 291.43it/s]\n",
      "100%|██████████| 10/10 [00:00<00:00, 1662.62it/s]\n",
      "epoch: 13\tloss: 5.416: 100%|██████████| 51/51 [00:00<00:00, 284.92it/s]\n",
      "100%|██████████| 10/10 [00:00<00:00, 1428.92it/s]\n",
      "epoch: 14\tloss: 4.702: 100%|██████████| 51/51 [00:00<00:00, 294.80it/s]\n",
      "100%|██████████| 10/10 [00:00<00:00, 1428.72it/s]\n",
      "epoch: 15\tloss: 4.953: 100%|██████████| 51/51 [00:00<00:00, 171.72it/s]\n",
      "100%|██████████| 10/10 [00:00<00:00, 526.22it/s]\n",
      "epoch: 16\tloss: 5.892: 100%|██████████| 51/51 [00:00<00:00, 155.97it/s]\n",
      "100%|██████████| 10/10 [00:00<00:00, 1661.77it/s]\n",
      "epoch: 17\tloss: 5.755: 100%|██████████| 51/51 [00:00<00:00, 258.98it/s]\n",
      "100%|██████████| 10/10 [00:00<00:00, 1663.75it/s]\n",
      "epoch: 18\tloss: 3.788: 100%|██████████| 51/51 [00:00<00:00, 206.95it/s]\n",
      "100%|██████████| 10/10 [00:00<00:00, 909.06it/s]\n",
      "epoch: 19\tloss: 5.664: 100%|██████████| 51/51 [00:00<00:00, 228.70it/s]\n",
      "100%|██████████| 10/10 [00:00<00:00, 909.06it/s]\n",
      "epoch: 20\tloss: 7.366: 100%|██████████| 51/51 [00:00<00:00, 250.00it/s]\n",
      "100%|██████████| 10/10 [00:00<00:00, 1428.29it/s]\n",
      "epoch: 21\tloss: 5.410: 100%|██████████| 51/51 [00:00<00:00, 294.79it/s]\n",
      "100%|██████████| 10/10 [00:00<00:00, 1659.93it/s]\n",
      "epoch: 22\tloss: 5.588: 100%|██████████| 51/51 [00:00<00:00, 300.00it/s]\n",
      "100%|██████████| 10/10 [00:00<00:00, 1249.64it/s]\n",
      "epoch: 23\tloss: 4.173: 100%|██████████| 51/51 [00:00<00:00, 149.56it/s]\n",
      "100%|██████████| 10/10 [00:00<00:00, 370.05it/s]\n",
      "epoch: 24\tloss: 3.510: 100%|██████████| 51/51 [00:00<00:00, 155.48it/s]\n",
      "100%|██████████| 10/10 [00:00<00:00, 1428.38it/s]\n",
      "epoch: 25\tloss: 5.419: 100%|██████████| 51/51 [00:00<00:00, 310.98it/s]\n",
      "100%|██████████| 10/10 [00:00<00:00, 1994.72it/s]\n",
      "epoch: 26\tloss: 3.764: 100%|██████████| 51/51 [00:00<00:00, 302.43it/s]\n",
      "100%|██████████| 10/10 [00:00<00:00, 1313.72it/s]\n",
      "epoch: 27\tloss: 5.057: 100%|██████████| 51/51 [00:00<00:00, 329.57it/s]\n",
      "100%|██████████| 10/10 [00:00<00:00, 1661.18it/s]\n",
      "epoch: 28\tloss: 9.211: 100%|██████████| 51/51 [00:00<00:00, 316.76it/s]\n",
      "100%|██████████| 10/10 [00:00<00:00, 1667.18it/s]\n",
      "epoch: 29\tloss: 3.785: 100%|██████████| 51/51 [00:00<00:00, 269.84it/s]\n",
      "100%|██████████| 10/10 [00:00<00:00, 999.81it/s]\n",
      "epoch: 30\tloss: 4.059: 100%|██████████| 51/51 [00:00<00:00, 223.68it/s]\n",
      "100%|██████████| 10/10 [00:00<00:00, 909.04it/s]\n",
      "epoch: 31\tloss: 4.088: 100%|██████████| 51/51 [00:00<00:00, 246.38it/s]\n",
      "100%|██████████| 10/10 [00:00<00:00, 908.92it/s]\n",
      "epoch: 32\tloss: 6.154: 100%|██████████| 51/51 [00:00<00:00, 134.92it/s]\n",
      "100%|██████████| 10/10 [00:00<00:00, 370.41it/s]\n",
      "epoch: 33\tloss: 5.444: 100%|██████████| 51/51 [00:00<00:00, 186.81it/s]\n",
      "100%|██████████| 10/10 [00:00<00:00, 1663.09it/s]\n",
      "epoch: 34\tloss: 3.928: 100%|██████████| 51/51 [00:00<00:00, 289.77it/s]\n",
      "100%|██████████| 10/10 [00:00<00:00, 1666.13it/s]\n",
      "epoch: 35\tloss: 4.256: 100%|██████████| 51/51 [00:00<00:00, 301.77it/s]\n",
      "100%|██████████| 10/10 [00:00<00:00, 1426.97it/s]\n",
      "epoch: 36\tloss: 4.412: 100%|██████████| 51/51 [00:00<00:00, 270.04it/s]\n",
      "100%|██████████| 10/10 [00:00<00:00, 1425.47it/s]\n",
      "epoch: 37\tloss: 5.184: 100%|██████████| 51/51 [00:00<00:00, 281.35it/s]\n",
      "100%|██████████| 10/10 [00:00<00:00, 1428.19it/s]\n",
      "epoch: 38\tloss: 5.755: 100%|██████████| 51/51 [00:00<00:00, 278.69it/s]\n",
      "100%|██████████| 10/10 [00:00<00:00, 1425.71it/s]\n",
      "epoch: 39\tloss: 3.701: 100%|██████████| 51/51 [00:00<00:00, 286.52it/s]\n",
      "100%|██████████| 10/10 [00:00<00:00, 1250.54it/s]\n",
      "epoch: 40\tloss: 4.195: 100%|██████████| 51/51 [00:00<00:00, 284.92it/s]\n",
      "100%|██████████| 10/10 [00:00<00:00, 1429.11it/s]\n",
      "epoch: 41\tloss: 3.128: 100%|██████████| 51/51 [00:00<00:00, 140.88it/s]\n",
      "100%|██████████| 10/10 [00:00<00:00, 571.06it/s]\n",
      "epoch: 42\tloss: 4.458: 100%|██████████| 51/51 [00:00<00:00, 187.50it/s]\n",
      "100%|██████████| 10/10 [00:00<00:00, 1250.20it/s]\n",
      "epoch: 43\tloss: 3.458: 100%|██████████| 51/51 [00:00<00:00, 260.20it/s]\n",
      "100%|██████████| 10/10 [00:00<00:00, 1428.77it/s]\n",
      "epoch: 44\tloss: 2.808: 100%|██████████| 51/51 [00:00<00:00, 293.10it/s]\n",
      "100%|██████████| 10/10 [00:00<00:00, 1663.22it/s]\n",
      "epoch: 45\tloss: 3.215: 100%|██████████| 51/51 [00:00<00:00, 286.51it/s]\n",
      "100%|██████████| 10/10 [00:00<00:00, 833.28it/s]\n",
      "epoch: 46\tloss: 6.082: 100%|██████████| 51/51 [00:00<00:00, 190.14it/s]\n",
      "100%|██████████| 10/10 [00:00<00:00, 1278.79it/s]\n",
      "epoch: 47\tloss: 2.414: 100%|██████████| 51/51 [00:00<00:00, 268.31it/s]\n",
      "100%|██████████| 10/10 [00:00<00:00, 1428.82it/s]\n",
      "epoch: 48\tloss: 3.227: 100%|██████████| 51/51 [00:00<00:00, 282.52it/s]\n",
      "100%|██████████| 10/10 [00:00<00:00, 1667.25it/s]\n",
      "epoch: 49\tloss: 2.471: 100%|██████████| 51/51 [00:00<00:00, 298.25it/s]\n",
      "100%|██████████| 10/10 [00:00<00:00, 625.05it/s]\n",
      "epoch: 50\tloss: 2.938: 100%|██████████| 51/51 [00:00<00:00, 153.61it/s]\n",
      "100%|██████████| 10/10 [00:00<00:00, 526.65it/s]\n",
      "epoch: 51\tloss: 2.937: 100%|██████████| 51/51 [00:00<00:00, 180.87it/s]\n",
      "100%|██████████| 10/10 [00:00<00:00, 1428.92it/s]\n",
      "epoch: 52\tloss: 7.850: 100%|██████████| 51/51 [00:00<00:00, 294.80it/s]\n",
      "100%|██████████| 10/10 [00:00<00:00, 1667.52it/s]\n",
      "epoch: 53\tloss: 3.806: 100%|██████████| 51/51 [00:00<00:00, 283.33it/s]\n",
      "100%|██████████| 10/10 [00:00<00:00, 1428.04it/s]\n",
      "epoch: 54\tloss: 4.037: 100%|██████████| 51/51 [00:00<00:00, 298.24it/s]\n",
      "100%|██████████| 10/10 [00:00<00:00, 1110.54it/s]\n",
      "epoch: 55\tloss: 4.833: 100%|██████████| 51/51 [00:00<00:00, 200.00it/s]\n",
      "100%|██████████| 10/10 [00:00<00:00, 2000.05it/s]\n",
      "epoch: 56\tloss: 5.265: 100%|██████████| 51/51 [00:00<00:00, 255.52it/s]\n",
      "100%|██████████| 10/10 [00:00<00:00, 1330.22it/s]\n",
      "epoch: 57\tloss: 3.750: 100%|██████████| 51/51 [00:00<00:00, 274.73it/s]\n",
      "100%|██████████| 10/10 [00:00<00:00, 1428.82it/s]\n",
      "epoch: 58\tloss: 6.143: 100%|██████████| 51/51 [00:00<00:00, 218.88it/s]\n",
      "100%|██████████| 10/10 [00:00<00:00, 500.48it/s]\n",
      "epoch: 59\tloss: 2.325: 100%|██████████| 51/51 [00:00<00:00, 162.42it/s]\n",
      "100%|██████████| 10/10 [00:00<00:00, 1662.76it/s]\n",
      "epoch: 60\tloss: 3.241: 100%|██████████| 51/51 [00:00<00:00, 293.10it/s]\n",
      "100%|██████████| 10/10 [00:00<00:00, 1429.11it/s]\n",
      "epoch: 61\tloss: 2.737: 100%|██████████| 51/51 [00:00<00:00, 213.39it/s]\n",
      "100%|██████████| 10/10 [00:00<00:00, 1111.10it/s]\n",
      "epoch: 62\tloss: 1.985: 100%|██████████| 51/51 [00:00<00:00, 258.88it/s]\n",
      "100%|██████████| 10/10 [00:00<00:00, 1428.33it/s]\n",
      "epoch: 63\tloss: 2.267: 100%|██████████| 51/51 [00:00<00:00, 301.77it/s]\n",
      "100%|██████████| 10/10 [00:00<00:00, 1428.14it/s]\n",
      "epoch: 64\tloss: 3.462: 100%|██████████| 51/51 [00:00<00:00, 301.78it/s]\n",
      "100%|██████████| 10/10 [00:00<00:00, 1666.26it/s]\n",
      "epoch: 65\tloss: 2.965: 100%|██████████| 51/51 [00:00<00:00, 277.17it/s]\n",
      "100%|██████████| 10/10 [00:00<00:00, 625.05it/s]\n",
      "epoch: 66\tloss: 1.657: 100%|██████████| 51/51 [00:00<00:00, 214.02it/s]\n",
      "100%|██████████| 10/10 [00:00<00:00, 1215.42it/s]\n",
      "epoch: 67\tloss: 2.797: 100%|██████████| 51/51 [00:00<00:00, 165.98it/s]\n",
      "100%|██████████| 10/10 [00:00<00:00, 499.83it/s]\n",
      "epoch: 68\tloss: 2.277: 100%|██████████| 51/51 [00:00<00:00, 195.41it/s]\n",
      "100%|██████████| 10/10 [00:00<00:00, 1250.13it/s]\n",
      "epoch: 69\tloss: 1.883: 100%|██████████| 51/51 [00:00<00:00, 291.43it/s]\n",
      "100%|██████████| 10/10 [00:00<00:00, 1999.00it/s]\n",
      "epoch: 70\tloss: 1.587: 100%|██████████| 51/51 [00:00<00:00, 217.02it/s]\n",
      "100%|██████████| 10/10 [00:00<00:00, 1000.05it/s]\n",
      "epoch: 71\tloss: 4.840: 100%|██████████| 51/51 [00:00<00:00, 261.54it/s]\n",
      "100%|██████████| 10/10 [00:00<00:00, 1666.59it/s]\n",
      "epoch: 72\tloss: 3.191: 100%|██████████| 51/51 [00:00<00:00, 289.77it/s]\n",
      "100%|██████████| 10/10 [00:00<00:00, 1250.35it/s]\n",
      "epoch: 73\tloss: 5.245: 100%|██████████| 51/51 [00:00<00:00, 303.57it/s]\n",
      "100%|██████████| 10/10 [00:00<00:00, 1666.99it/s]\n",
      "epoch: 74\tloss: 2.442: 100%|██████████| 51/51 [00:00<00:00, 195.40it/s]\n",
      "100%|██████████| 10/10 [00:00<00:00, 1663.35it/s]\n",
      "epoch: 75\tloss: 3.550: 100%|██████████| 51/51 [00:00<00:00, 262.89it/s]\n",
      "100%|██████████| 10/10 [00:00<00:00, 500.03it/s]\n",
      "epoch: 76\tloss: 7.330: 100%|██████████| 51/51 [00:00<00:00, 136.42it/s]\n",
      "100%|██████████| 10/10 [00:00<00:00, 1428.72it/s]\n",
      "epoch: 77\tloss: 3.359: 100%|██████████| 51/51 [00:00<00:00, 300.00it/s]\n",
      "100%|██████████| 10/10 [00:00<00:00, 1662.30it/s]\n",
      "epoch: 78\tloss: 1.645: 100%|██████████| 51/51 [00:00<00:00, 303.57it/s]\n",
      "100%|██████████| 10/10 [00:00<00:00, 2000.43it/s]\n",
      "epoch: 79\tloss: 2.236: 100%|██████████| 51/51 [00:00<00:00, 305.39it/s]\n",
      "100%|██████████| 10/10 [00:00<00:00, 1428.29it/s]\n",
      "epoch: 80\tloss: 13.574: 100%|██████████| 51/51 [00:00<00:00, 194.66it/s]\n",
      "100%|██████████| 10/10 [00:00<00:00, 1424.74it/s]\n",
      "epoch: 81\tloss: 3.383: 100%|██████████| 51/51 [00:00<00:00, 307.23it/s]\n",
      "100%|██████████| 10/10 [00:00<00:00, 2000.62it/s]\n",
      "epoch: 82\tloss: 3.468: 100%|██████████| 51/51 [00:00<00:00, 314.81it/s]\n",
      "100%|██████████| 10/10 [00:00<00:00, 1666.85it/s]\n",
      "epoch: 83\tloss: 2.737: 100%|██████████| 51/51 [00:00<00:00, 307.22it/s]\n",
      "100%|██████████| 10/10 [00:00<00:00, 1663.09it/s]\n",
      "epoch: 84\tloss: 2.230: 100%|██████████| 51/51 [00:00<00:00, 288.13it/s]\n",
      "100%|██████████| 10/10 [00:00<00:00, 1424.26it/s]\n",
      "epoch: 85\tloss: 1.583: 100%|██████████| 51/51 [00:00<00:00, 141.67it/s]\n",
      "100%|██████████| 10/10 [00:00<00:00, 277.72it/s]\n",
      "epoch: 86\tloss: 0.938: 100%|██████████| 51/51 [00:00<00:00, 211.18it/s]\n",
      "100%|██████████| 10/10 [00:00<00:00, 1666.13it/s]\n",
      "epoch: 87\tloss: 5.507: 100%|██████████| 51/51 [00:00<00:00, 297.15it/s]\n",
      "100%|██████████| 10/10 [00:00<00:00, 1249.68it/s]\n",
      "epoch: 88\tloss: 4.327: 100%|██████████| 51/51 [00:00<00:00, 192.45it/s]\n",
      "100%|██████████| 10/10 [00:00<00:00, 1663.15it/s]\n",
      "epoch: 89\tloss: 2.733: 100%|██████████| 51/51 [00:00<00:00, 301.77it/s]\n",
      "100%|██████████| 10/10 [00:00<00:00, 1666.46it/s]\n",
      "epoch: 90\tloss: 12.245: 100%|██████████| 51/51 [00:00<00:00, 258.88it/s]\n",
      "100%|██████████| 10/10 [00:00<00:00, 999.95it/s]\n",
      "epoch: 91\tloss: 9.694: 100%|██████████| 51/51 [00:00<00:00, 262.88it/s]\n",
      "100%|██████████| 10/10 [00:00<00:00, 999.74it/s]\n",
      "epoch: 92\tloss: 30.801: 100%|██████████| 51/51 [00:00<00:00, 175.86it/s]\n",
      "100%|██████████| 10/10 [00:00<00:00, 1111.16it/s]\n",
      "epoch: 93\tloss: 2.468: 100%|██████████| 51/51 [00:00<00:00, 144.07it/s]\n",
      "100%|██████████| 10/10 [00:00<00:00, 526.54it/s]\n",
      "epoch: 94\tloss: 10.701: 100%|██████████| 51/51 [00:00<00:00, 257.59it/s]\n",
      "100%|██████████| 10/10 [00:00<00:00, 1667.18it/s]\n",
      "epoch: 95\tloss: 23.101: 100%|██████████| 51/51 [00:00<00:00, 272.89it/s]\n",
      "100%|██████████| 10/10 [00:00<00:00, 1668.45it/s]\n",
      "epoch: 96\tloss: 11.514: 100%|██████████| 51/51 [00:00<00:00, 261.15it/s]\n",
      "100%|██████████| 10/10 [00:00<00:00, 1662.43it/s]\n",
      "epoch: 97\tloss: 8.517: 100%|██████████| 51/51 [00:00<00:00, 309.09it/s]\n",
      "100%|██████████| 10/10 [00:00<00:00, 1110.81it/s]\n",
      "epoch: 98\tloss: 4.928: 100%|██████████| 51/51 [00:00<00:00, 301.78it/s]\n",
      "100%|██████████| 10/10 [00:00<00:00, 1249.83it/s]\n",
      "epoch: 99\tloss: 1.508: 100%|██████████| 51/51 [00:00<00:00, 294.80it/s]\n",
      "100%|██████████| 10/10 [00:00<00:00, 1666.85it/s]\n"
     ]
    }
   ],
   "source": [
    "stats = train(\n",
    "    model, \n",
    "    dataloader_val,\n",
    "    dataloader_train,\n",
    "    optimizer,\n",
    "    criterion,\n",
    "    100\n",
    "    )"
   ]
  },
  {
   "cell_type": "code",
   "execution_count": 15,
   "metadata": {},
   "outputs": [
    {
     "data": {
      "image/png": "[encoded data removed]",
      "text/plain": [
       "<Figure size 640x480 with 1 Axes>"
      ]
     },
     "metadata": {},
     "output_type": "display_data"
    }
   ],
   "source": [
    "plt.title('Loss func')\n",
    "plt.xlabel('Num epoch')\n",
    "plt.ylabel('loss')\n",
    "\n",
    "plt.plot(stats['loss_func'], 'r')\n",
    "\n",
    "plt.tight_layout()\n",
    "\n",
    "plt.show()"
   ]
  },
  {
   "cell_type": "code",
   "execution_count": 16,
   "metadata": {},
   "outputs": [
    {
     "data": {
      "image/png": "[encoded data removed]",
      "text/plain": [
       "<Figure size 640x480 with 1 Axes>"
      ]
     },
     "metadata": {},
     "output_type": "display_data"
    }
   ],
   "source": [
    "plt.title('Valid Accuracy')\n",
    "plt.xlabel('Num epoch')\n",
    "plt.ylabel('Score')\n",
    "\n",
    "plt.plot(stats['valid_loss'], 'b', label='Valid score')\n",
    "\n",
    "plt.legend(fontsize=10)\n",
    "plt.tight_layout()\n",
    "\n",
    "plt.show()"
   ]
  },
  {
   "cell_type": "markdown",
   "metadata": {},
   "source": [
    "Test score"
   ]
  },
  {
   "cell_type": "code",
   "execution_count": 17,
   "metadata": {},
   "outputs": [
    {
     "name": "stderr",
     "output_type": "stream",
     "text": [
      "100%|██████████| 10/10 [00:00<00:00, 400.06it/s]"
     ]
    },
    {
     "name": "stdout",
     "output_type": "stream",
     "text": [
      "Test score: 0.1021348476409912\n"
     ]
    },
    {
     "name": "stderr",
     "output_type": "stream",
     "text": [
      "\n"
     ]
    }
   ],
   "source": [
    "print(f'Test score: {test(model, dataloader_test)}')"
   ]
  }
 ],
 "metadata": {
  "kernelspec": {
   "display_name": "pythorch",
   "language": "python",
   "name": "python3"
  },
  "language_info": {
   "codemirror_mode": {
    "name": "ipython",
    "version": 3
   },
   "file_extension": ".py",
   "mimetype": "text/x-python",
   "name": "python",
   "nbconvert_exporter": "python",
   "pygments_lexer": "ipython3",
   "version": "3.12.2"
  }
 },
 "nbformat": 4,
 "nbformat_minor": 2
}
