{
 "cells": [
  {
   "cell_type": "markdown",
   "metadata": {},
   "source": [
    "Imports"
   ]
  },
  {
   "cell_type": "code",
   "execution_count": 35,
   "metadata": {},
   "outputs": [],
   "source": [
    "import torch\n",
    "import torch.nn as nn\n",
    "import torch.nn.functional as F\n",
    "import torch.optim as optim\n",
    "\n",
    "from tqdm import tqdm"
   ]
  },
  {
   "cell_type": "markdown",
   "metadata": {},
   "source": [
    "dataset"
   ]
  },
  {
   "cell_type": "code",
   "execution_count": 12,
   "metadata": {},
   "outputs": [],
   "source": [
    "inp = ['''0.7 0.7 0.7 0.7 0.7 0.7 0.75 0.75 0.75 0.75 0.75 0.75 0.75 0.8 0.8 0.8 0.8 0.8 0.8 0.8 0.85 \n",
    "0.85 0.85 0.85 0.85 0.85 0.85 0.9 0.9 0.9 0.9 0.9 0.9 0.9 0.9 0.95 0.95 0.95 0.95 0.95 0.95 0.95 \n",
    "0.95 0.95 1 1 1 1 1 1 1 1 1.05 1.05 1.05 1.05 1.05 1.05 1.05 1.05 1.05 1.1 1.1 1.1 1.1 1.1 1.1 1.1 \n",
    "1.1 1.1 1.1''',\n",
    "'''245 280 340 400 440 465 265 320 360 400 440 460 495 280 320 360 420 480 520 530 \n",
    "300 360 400 440 480 520 560 315 360 400 440 480 520 560 600 \n",
    "330 380 420 460 500 540 580 620 630 350 420 450 500 540 580 620 665 \n",
    "370 420 480 525 550 580 620 660 695 385 420 460 490 510 560 600 640 680 730''',\n",
    "'''1.145 1.140 1.13 1.11 1.09 1.08 1.166 1.16 1.15 1.14 1.12 1.11 1.08 1.19 1.185 \n",
    "1.18 1.16 1.13 1.105 1.095 1.22 1.21 1.20 1.185 1.17 1.144 1.11 1.246 1.24 1.232 1.22 1.205 \n",
    "1.183 1.155 1.12 1.276 1.27 1.26 1.25 1.23 1.21 1.18 1.145 1.135 1.31 1.3 1.29 1.27 1.25 1.23 \n",
    "1.195 1.15 1.345 1.34 1.32 1.30 1.29 1.27 1.245 1.21 1.165 1.382 1.38 1.37 1.36 1.35 1.33 \n",
    "1.305 1.275 1.24 1.18'''\n",
    "]"
   ]
  },
  {
   "cell_type": "code",
   "execution_count": 25,
   "metadata": {},
   "outputs": [],
   "source": [
    "class Dataset(torch.utils.data.Dataset):\n",
    "    def __init__(self, inp):\n",
    "        super(Dataset, self).__init__()\n",
    "        self.data = list(zip(map(float, inp[0].split()), map(float, inp[1].split())))\n",
    "        self.data = torch.Tensor(self.data)\n",
    "        self.lable = list(map(float, inp[2].split()))\n",
    "        self.lable = torch.Tensor(self.lable)\n",
    "\n",
    "    def __getitem__(self, index):\n",
    "        data = self.data[index]\n",
    "        lable = self.lable[index]\n",
    "        return data, lable\n",
    "\n",
    "    def __len__(self):\n",
    "        return len(self.lable)"
   ]
  },
  {
   "cell_type": "code",
   "execution_count": 26,
   "metadata": {},
   "outputs": [],
   "source": [
    "data = Dataset(inp)"
   ]
  },
  {
   "cell_type": "code",
   "execution_count": 30,
   "metadata": {},
   "outputs": [
    {
     "data": {
      "text/plain": [
       "71"
      ]
     },
     "execution_count": 30,
     "metadata": {},
     "output_type": "execute_result"
    }
   ],
   "source": [
    "data.__len__()"
   ]
  },
  {
   "cell_type": "markdown",
   "metadata": {},
   "source": [
    "trai valid test split"
   ]
  },
  {
   "cell_type": "code",
   "execution_count": 31,
   "metadata": {},
   "outputs": [],
   "source": [
    "import torch.utils\n",
    "\n",
    "\n",
    "train, val, test = torch.utils.data.random_split(data, [51, 10, 10])"
   ]
  },
  {
   "cell_type": "markdown",
   "metadata": {},
   "source": [
    "Create dataloader"
   ]
  },
  {
   "cell_type": "code",
   "execution_count": 32,
   "metadata": {},
   "outputs": [],
   "source": [
    "dataloader_train = torch.utils.data.DataLoader(train, 1, shuffle=True)\n",
    "dataloader_val = torch.utils.data.DataLoader(val, 1, shuffle=True)\n",
    "dataloader_test = torch.utils.data.DataLoader(test, 1, shuffle=True)"
   ]
  },
  {
   "cell_type": "markdown",
   "metadata": {},
   "source": [
    "model (Net)"
   ]
  },
  {
   "cell_type": "code",
   "execution_count": 34,
   "metadata": {},
   "outputs": [],
   "source": [
    "class Net(nn.Module):\n",
    "    def __init__(self):\n",
    "        super(Net, self).__init__()\n",
    "        self.pipe = nn.Sequential(\n",
    "            nn.Linear(2, 10),\n",
    "            nn.ReLu(),\n",
    "            \n",
    "            nn.Linear(10 , 1)\n",
    "        )\n",
    "\n",
    "\n",
    "    def forward(self, x):\n",
    "        x = self.pipe(x)\n",
    "        return x"
   ]
  },
  {
   "cell_type": "markdown",
   "metadata": {},
   "source": [
    "test"
   ]
  },
  {
   "cell_type": "code",
   "execution_count": null,
   "metadata": {},
   "outputs": [],
   "source": [
    "def test(model, dataloader):\n",
    "    for i i"
   ]
  },
  {
   "cell_type": "markdown",
   "metadata": {},
   "source": [
    "train"
   ]
  },
  {
   "cell_type": "code",
   "execution_count": null,
   "metadata": {},
   "outputs": [
    {
     "ename": "SyntaxError",
     "evalue": "incomplete input (1908937550.py, line 1)",
     "output_type": "error",
     "traceback": [
      "\u001b[1;36m  Cell \u001b[1;32mIn[36], line 1\u001b[1;36m\u001b[0m\n\u001b[1;33m    def train(model, valloader, trainloader, optimizer, criterion, epoch):\u001b[0m\n\u001b[1;37m                                                                          ^\u001b[0m\n\u001b[1;31mSyntaxError\u001b[0m\u001b[1;31m:\u001b[0m incomplete input\n"
     ]
    }
   ],
   "source": [
    "def train(model, valloader, trainloader, optimizer, criterion, epoch):\n",
    "\n",
    "    loss_stats = {\n",
    "        \"loss_func\":[],\n",
    "        \"valid_loss\":[]\n",
    "    }"
   ]
  },
  {
   "cell_type": "code",
   "execution_count": null,
   "metadata": {},
   "outputs": [],
   "source": []
  }
 ],
 "metadata": {
  "kernelspec": {
   "display_name": "pythorch",
   "language": "python",
   "name": "python3"
  },
  "language_info": {
   "codemirror_mode": {
    "name": "ipython",
    "version": 3
   },
   "file_extension": ".py",
   "mimetype": "text/x-python",
   "name": "python",
   "nbconvert_exporter": "python",
   "pygments_lexer": "ipython3",
   "version": "3.12.2"
  }
 },
 "nbformat": 4,
 "nbformat_minor": 2
}
