{
 "cells": [
  {
   "cell_type": "markdown",
   "metadata": {},
   "source": [
    "Imports"
   ]
  },
  {
   "cell_type": "code",
   "execution_count": 69,
   "metadata": {},
   "outputs": [],
   "source": [
    "import torch\n",
    "import torch.nn as nn\n",
    "import torch.nn.functional as F\n",
    "import torch.optim as optim\n",
    "\n",
    "import numpy as np\n",
    "import matplotlib.pyplot as plt\n",
    "\n",
    "from tqdm import tqdm"
   ]
  },
  {
   "cell_type": "code",
   "execution_count": 70,
   "metadata": {},
   "outputs": [
    {
     "data": {
      "text/plain": [
       "device(type='cuda', index=0)"
      ]
     },
     "execution_count": 70,
     "metadata": {},
     "output_type": "execute_result"
    }
   ],
   "source": [
    "device = torch.device('cuda:0' if torch.cuda.is_available() else 'cpu')\n",
    "device"
   ]
  },
  {
   "cell_type": "markdown",
   "metadata": {},
   "source": [
    "dataset"
   ]
  },
  {
   "cell_type": "code",
   "execution_count": 71,
   "metadata": {},
   "outputs": [],
   "source": [
    "inp = ['''0.7 0.7 0.7 0.7 0.7 0.7 0.75 0.75 0.75 0.75 0.75 0.75 0.75 0.8 0.8 0.8 0.8 0.8 0.8 0.8 0.85 \n",
    "0.85 0.85 0.85 0.85 0.85 0.85 0.9 0.9 0.9 0.9 0.9 0.9 0.9 0.9 0.95 0.95 0.95 0.95 0.95 0.95 0.95 \n",
    "0.95 0.95 1 1 1 1 1 1 1 1 1.05 1.05 1.05 1.05 1.05 1.05 1.05 1.05 1.05 1.1 1.1 1.1 1.1 1.1 1.1 1.1 \n",
    "1.1 1.1 1.1''',\n",
    "'''245 280 340 400 440 465 265 320 360 400 440 460 495 280 320 360 420 480 520 530 \n",
    "300 360 400 440 480 520 560 315 360 400 440 480 520 560 600 \n",
    "330 380 420 460 500 540 580 620 630 350 420 450 500 540 580 620 665 \n",
    "370 420 480 525 550 580 620 660 695 385 420 460 490 510 560 600 640 680 730''',\n",
    "'''1.145 1.140 1.13 1.11 1.09 1.08 1.166 1.16 1.15 1.14 1.12 1.11 1.08 1.19 1.185 \n",
    "1.18 1.16 1.13 1.105 1.095 1.22 1.21 1.20 1.185 1.17 1.144 1.11 1.246 1.24 1.232 1.22 1.205 \n",
    "1.183 1.155 1.12 1.276 1.27 1.26 1.25 1.23 1.21 1.18 1.145 1.135 1.31 1.3 1.29 1.27 1.25 1.23 \n",
    "1.195 1.15 1.345 1.34 1.32 1.30 1.29 1.27 1.245 1.21 1.165 1.382 1.38 1.37 1.36 1.35 1.33 \n",
    "1.305 1.275 1.24 1.18'''\n",
    "]"
   ]
  },
  {
   "cell_type": "code",
   "execution_count": 72,
   "metadata": {},
   "outputs": [],
   "source": [
    "class Dataset(torch.utils.data.Dataset):\n",
    "    def __init__(self, inp):\n",
    "        super(Dataset, self).__init__()\n",
    "        self.data = list(zip(map(float, inp[0].split()), map(float, inp[1].split())))\n",
    "        self.data = torch.Tensor(self.data)\n",
    "        self.lable = list(map(float, inp[2].split()))\n",
    "        self.lable = torch.Tensor(self.lable)\n",
    "\n",
    "    def __getitem__(self, index):\n",
    "        data = self.data[index]\n",
    "        lable = self.lable[index]\n",
    "        return data, lable\n",
    "\n",
    "    def __len__(self):\n",
    "        return len(self.lable)"
   ]
  },
  {
   "cell_type": "code",
   "execution_count": 73,
   "metadata": {},
   "outputs": [],
   "source": [
    "data = Dataset(inp)"
   ]
  },
  {
   "cell_type": "code",
   "execution_count": 74,
   "metadata": {},
   "outputs": [
    {
     "data": {
      "text/plain": [
       "71"
      ]
     },
     "execution_count": 74,
     "metadata": {},
     "output_type": "execute_result"
    }
   ],
   "source": [
    "data.__len__()"
   ]
  },
  {
   "cell_type": "markdown",
   "metadata": {},
   "source": [
    "trai valid test split"
   ]
  },
  {
   "cell_type": "code",
   "execution_count": 75,
   "metadata": {},
   "outputs": [],
   "source": [
    "import torch.utils\n",
    "\n",
    "\n",
    "train, val, test = torch.utils.data.random_split(data, [61, 5, 5])"
   ]
  },
  {
   "cell_type": "markdown",
   "metadata": {},
   "source": [
    "Create dataloader"
   ]
  },
  {
   "cell_type": "code",
   "execution_count": 76,
   "metadata": {},
   "outputs": [],
   "source": [
    "dataloader_train = torch.utils.data.DataLoader(train, 1, shuffle=True)\n",
    "dataloader_val = torch.utils.data.DataLoader(val, 1, shuffle=True)\n",
    "dataloader_test = torch.utils.data.DataLoader(test, 1, shuffle=True)"
   ]
  },
  {
   "cell_type": "markdown",
   "metadata": {},
   "source": [
    "model (Net)"
   ]
  },
  {
   "cell_type": "code",
   "execution_count": 77,
   "metadata": {},
   "outputs": [],
   "source": [
    "class Net(nn.Module):\n",
    "    def __init__(self):\n",
    "        super(Net, self).__init__()\n",
    "        self.pipe = nn.Sequential(\n",
    "            nn.Linear(2, 10),\n",
    "            nn.ReLU(),\n",
    "            nn.Linear(10, 30),\n",
    "            nn.ReLU(),\n",
    "            nn.Linear(30, 10),\n",
    "            nn.ReLU(),\n",
    "            nn.Linear(10 , 1)\n",
    "        )\n",
    "\n",
    "\n",
    "    def forward(self, x):\n",
    "        x = self.pipe(x)\n",
    "        return x"
   ]
  },
  {
   "cell_type": "code",
   "execution_count": 78,
   "metadata": {},
   "outputs": [
    {
     "data": {
      "text/plain": [
       "Net(\n",
       "  (pipe): Sequential(\n",
       "    (0): Linear(in_features=2, out_features=10, bias=True)\n",
       "    (1): ReLU()\n",
       "    (2): Linear(in_features=10, out_features=30, bias=True)\n",
       "    (3): ReLU()\n",
       "    (4): Linear(in_features=30, out_features=10, bias=True)\n",
       "    (5): ReLU()\n",
       "    (6): Linear(in_features=10, out_features=1, bias=True)\n",
       "  )\n",
       ")"
      ]
     },
     "execution_count": 78,
     "metadata": {},
     "output_type": "execute_result"
    }
   ],
   "source": [
    "model = Net()\n",
    "model.to(device)"
   ]
  },
  {
   "cell_type": "markdown",
   "metadata": {},
   "source": [
    "test"
   ]
  },
  {
   "cell_type": "code",
   "execution_count": 79,
   "metadata": {},
   "outputs": [],
   "source": [
    "def test(model, dataloader):\n",
    "    score = []\n",
    "    for data in tqdm(dataloader):\n",
    "        inp, lable = data\n",
    "        inp, lable = inp.to(device), lable.to(device)\n",
    "\n",
    "        out = model(inp)\n",
    "\n",
    "        score.append(abs((lable-out).item()))\n",
    "    score = np.array(score)\n",
    "    return score.mean()\n",
    "        "
   ]
  },
  {
   "cell_type": "markdown",
   "metadata": {},
   "source": [
    "train"
   ]
  },
  {
   "cell_type": "code",
   "execution_count": 80,
   "metadata": {},
   "outputs": [],
   "source": [
    "def train(model, valloader, trainloader, optimizer, criterion, epoch):\n",
    "\n",
    "    loss_stats = {\n",
    "        \"loss_func\":[],\n",
    "        \"valid_loss\":[]\n",
    "    }\n",
    "\n",
    "    for ep in range(epoch):\n",
    "        model.train()\n",
    "        running_loss = 0\n",
    "        for data in (bar := tqdm(trainloader)):\n",
    "            inputs, labels = data\n",
    "            inputs, labels = inputs.to(device), labels.to(device)\n",
    "    \n",
    "            # zero the parameter gradients\n",
    "            optimizer.zero_grad()\n",
    "    \n",
    "            # forward + backward + optimize\n",
    "            outputs = model(inputs)\n",
    "            loss = criterion(outputs, labels)\n",
    "            loss.backward()\n",
    "            optimizer.step()\n",
    "    \n",
    "            running_loss += loss.item()\n",
    "\n",
    "            bar.set_description(f'epoch: {ep}\\tloss: {running_loss:.3F}')\n",
    "\n",
    "        loss_stats[\"loss_func\"].append(running_loss)\n",
    "\n",
    "        model.eval()\n",
    "\n",
    "        loss_stats[\"valid_loss\"].append(test(model, valloader))\n",
    "    return loss_stats"
   ]
  },
  {
   "cell_type": "code",
   "execution_count": 81,
   "metadata": {},
   "outputs": [],
   "source": [
    "optimizer = torch.optim.Adam(model.parameters(), lr=1e-2)\n",
    "criterion = nn.MSELoss()"
   ]
  },
  {
   "cell_type": "code",
   "execution_count": 82,
   "metadata": {},
   "outputs": [
    {
     "name": "stderr",
     "output_type": "stream",
     "text": [
      "epoch: 0\tloss: 245.704: 100%|██████████| 61/61 [00:00<00:00, 128.01it/s]\n",
      "100%|██████████| 5/5 [00:00<00:00, 454.68it/s]\n",
      "epoch: 1\tloss: 44.295: 100%|██████████| 61/61 [00:00<00:00, 137.55it/s]\n",
      "100%|██████████| 5/5 [00:00<00:00, 500.04it/s]\n",
      "epoch: 2\tloss: 19.318: 100%|██████████| 61/61 [00:00<00:00, 139.27it/s]\n",
      "100%|██████████| 5/5 [00:00<00:00, 454.44it/s]\n",
      "epoch: 3\tloss: 7.111: 100%|██████████| 61/61 [00:00<00:00, 81.82it/s] \n",
      "100%|██████████| 5/5 [00:00<00:00, 454.49it/s]\n",
      "epoch: 4\tloss: 2.354: 100%|██████████| 61/61 [00:00<00:00, 123.23it/s]\n",
      "100%|██████████| 5/5 [00:00<00:00, 500.08it/s]\n",
      "epoch: 5\tloss: 0.828: 100%|██████████| 61/61 [00:00<00:00, 121.40it/s]\n",
      "100%|██████████| 5/5 [00:00<00:00, 416.67it/s]\n",
      "epoch: 6\tloss: 0.436: 100%|██████████| 61/61 [00:00<00:00, 133.48it/s]\n",
      "100%|██████████| 5/5 [00:00<00:00, 384.63it/s]\n",
      "epoch: 7\tloss: 0.356: 100%|██████████| 61/61 [00:00<00:00, 142.86it/s]\n",
      "100%|██████████| 5/5 [00:00<00:00, 416.67it/s]\n",
      "epoch: 8\tloss: 0.344: 100%|██████████| 61/61 [00:00<00:00, 138.32it/s]\n",
      "100%|██████████| 5/5 [00:00<00:00, 555.65it/s]\n",
      "epoch: 9\tloss: 0.340: 100%|██████████| 61/61 [00:00<00:00, 140.88it/s]\n",
      "100%|██████████| 5/5 [00:00<00:00, 555.73it/s]\n",
      "epoch: 10\tloss: 0.340: 100%|██████████| 61/61 [00:00<00:00, 144.63it/s]\n",
      "100%|██████████| 5/5 [00:00<00:00, 454.40it/s]\n",
      "epoch: 11\tloss: 0.343: 100%|██████████| 61/61 [00:00<00:00, 145.59it/s]\n",
      "100%|██████████| 5/5 [00:00<00:00, 554.86it/s]\n",
      "epoch: 12\tloss: 0.342: 100%|██████████| 61/61 [00:00<00:00, 87.27it/s] \n",
      "100%|██████████| 5/5 [00:00<00:00, 454.66it/s]\n",
      "epoch: 13\tloss: 0.344: 100%|██████████| 61/61 [00:00<00:00, 127.08it/s]\n",
      "100%|██████████| 5/5 [00:00<00:00, 454.31it/s]\n",
      "epoch: 14\tloss: 0.343: 100%|██████████| 61/61 [00:00<00:00, 141.70it/s]\n",
      "100%|██████████| 5/5 [00:00<00:00, 408.66it/s]\n",
      "epoch: 15\tloss: 0.343: 100%|██████████| 61/61 [00:00<00:00, 141.53it/s]\n",
      "100%|██████████| 5/5 [00:00<00:00, 356.65it/s]\n",
      "epoch: 16\tloss: 0.340: 100%|██████████| 61/61 [00:00<00:00, 140.23it/s]\n",
      "100%|██████████| 5/5 [00:00<00:00, 555.60it/s]\n",
      "epoch: 17\tloss: 0.343: 100%|██████████| 61/61 [00:00<00:00, 142.19it/s]\n",
      "100%|██████████| 5/5 [00:00<00:00, 554.32it/s]\n",
      "epoch: 18\tloss: 0.350: 100%|██████████| 61/61 [00:00<00:00, 144.21it/s]\n",
      "100%|██████████| 5/5 [00:00<00:00, 625.16it/s]\n",
      "epoch: 19\tloss: 0.343: 100%|██████████| 61/61 [00:00<00:00, 138.06it/s]\n",
      "100%|██████████| 5/5 [00:00<00:00, 499.91it/s]\n",
      "epoch: 20\tloss: 0.341: 100%|██████████| 61/61 [00:00<00:00, 82.04it/s] \n",
      "100%|██████████| 5/5 [00:00<00:00, 555.63it/s]\n",
      "epoch: 21\tloss: 0.342: 100%|██████████| 61/61 [00:00<00:00, 169.92it/s]\n",
      "100%|██████████| 5/5 [00:00<00:00, 500.13it/s]\n",
      "epoch: 22\tloss: 0.339: 100%|██████████| 61/61 [00:00<00:00, 164.87it/s]\n",
      "100%|██████████| 5/5 [00:00<00:00, 1000.84it/s]\n",
      "epoch: 23\tloss: 0.344: 100%|██████████| 61/61 [00:00<00:00, 172.32it/s]\n",
      "100%|██████████| 5/5 [00:00<00:00, 500.13it/s]\n",
      "epoch: 24\tloss: 0.348: 100%|██████████| 61/61 [00:00<00:00, 150.92it/s]\n",
      "100%|██████████| 5/5 [00:00<00:00, 714.17it/s]\n",
      "epoch: 25\tloss: 0.343: 100%|██████████| 61/61 [00:00<00:00, 160.43it/s]\n",
      "100%|██████████| 5/5 [00:00<00:00, 1000.02it/s]\n",
      "epoch: 26\tloss: 0.343: 100%|██████████| 61/61 [00:00<00:00, 150.99it/s]\n",
      "100%|██████████| 5/5 [00:00<00:00, 555.74it/s]\n",
      "epoch: 27\tloss: 0.343: 100%|██████████| 61/61 [00:00<00:00, 139.59it/s]\n",
      "100%|██████████| 5/5 [00:00<00:00, 416.71it/s]\n",
      "epoch: 28\tloss: 0.346: 100%|██████████| 61/61 [00:00<00:00, 134.96it/s]\n",
      "100%|██████████| 5/5 [00:00<00:00, 416.71it/s]\n",
      "epoch: 29\tloss: 0.347: 100%|██████████| 61/61 [00:00<00:00, 73.48it/s] \n",
      "100%|██████████| 5/5 [00:00<00:00, 357.19it/s]\n",
      "epoch: 30\tloss: 0.343: 100%|██████████| 61/61 [00:00<00:00, 146.99it/s]\n",
      "100%|██████████| 5/5 [00:00<00:00, 499.95it/s]\n",
      "epoch: 31\tloss: 0.343: 100%|██████████| 61/61 [00:00<00:00, 165.76it/s]\n",
      "100%|██████████| 5/5 [00:00<00:00, 833.79it/s]\n",
      "epoch: 32\tloss: 0.345: 100%|██████████| 61/61 [00:00<00:00, 168.51it/s]\n",
      "100%|██████████| 5/5 [00:00<00:00, 714.43it/s]\n",
      "epoch: 33\tloss: 0.351: 100%|██████████| 61/61 [00:00<00:00, 176.81it/s]\n",
      "100%|██████████| 5/5 [00:00<00:00, 555.54it/s]\n",
      "epoch: 34\tloss: 0.355: 100%|██████████| 61/61 [00:00<00:00, 167.58it/s]\n",
      "100%|██████████| 5/5 [00:00<00:00, 714.22it/s]\n",
      "epoch: 35\tloss: 0.345: 100%|██████████| 61/61 [00:00<00:00, 161.55it/s]\n",
      "100%|██████████| 5/5 [00:00<00:00, 714.29it/s]\n",
      "epoch: 36\tloss: 0.352: 100%|██████████| 61/61 [00:00<00:00, 171.83it/s]\n",
      "100%|██████████| 5/5 [00:00<00:00, 999.79it/s]\n",
      "epoch: 37\tloss: 0.350: 100%|██████████| 61/61 [00:00<00:00, 181.01it/s]\n",
      "100%|██████████| 5/5 [00:00<00:00, 555.49it/s]\n",
      "epoch: 38\tloss: 0.340: 100%|██████████| 61/61 [00:00<00:00, 67.55it/s] \n",
      "100%|██████████| 5/5 [00:00<00:00, 499.91it/s]\n",
      "epoch: 39\tloss: 0.356: 100%|██████████| 61/61 [00:00<00:00, 140.53it/s]\n",
      "100%|██████████| 5/5 [00:00<00:00, 322.22it/s]\n",
      "epoch: 40\tloss: 0.346: 100%|██████████| 61/61 [00:00<00:00, 154.76it/s]\n",
      "100%|██████████| 5/5 [00:00<00:00, 500.14it/s]\n",
      "epoch: 41\tloss: 0.358: 100%|██████████| 61/61 [00:00<00:00, 150.99it/s]\n",
      "100%|██████████| 5/5 [00:00<00:00, 624.41it/s]\n",
      "epoch: 42\tloss: 0.349: 100%|██████████| 61/61 [00:00<00:00, 154.82it/s]\n",
      "100%|██████████| 5/5 [00:00<00:00, 624.49it/s]\n",
      "epoch: 43\tloss: 0.347: 100%|██████████| 61/61 [00:00<00:00, 151.36it/s]\n",
      "100%|██████████| 5/5 [00:00<00:00, 499.92it/s]\n",
      "epoch: 44\tloss: 0.343: 100%|██████████| 61/61 [00:00<00:00, 155.22it/s]\n",
      "100%|██████████| 5/5 [00:00<00:00, 714.12it/s]\n",
      "epoch: 45\tloss: 0.349: 100%|██████████| 61/61 [00:00<00:00, 149.99it/s]\n",
      "100%|██████████| 5/5 [00:00<00:00, 498.98it/s]\n",
      "epoch: 46\tloss: 0.347: 100%|██████████| 61/61 [00:00<00:00, 120.91it/s]\n",
      "100%|██████████| 5/5 [00:00<00:00, 66.67it/s]\n",
      "epoch: 47\tloss: 0.342: 100%|██████████| 61/61 [00:00<00:00, 119.49it/s]\n",
      "100%|██████████| 5/5 [00:00<00:00, 714.34it/s]\n",
      "epoch: 48\tloss: 0.344: 100%|██████████| 61/61 [00:00<00:00, 167.58it/s]\n",
      "100%|██████████| 5/5 [00:00<00:00, 625.38it/s]\n",
      "epoch: 49\tloss: 0.351: 100%|██████████| 61/61 [00:00<00:00, 151.73it/s]\n",
      "100%|██████████| 5/5 [00:00<00:00, 555.60it/s]\n",
      "epoch: 50\tloss: 0.357: 100%|██████████| 61/61 [00:00<00:00, 161.56it/s]\n",
      "100%|██████████| 5/5 [00:00<00:00, 833.43it/s]\n",
      "epoch: 51\tloss: 0.345: 100%|██████████| 61/61 [00:00<00:00, 163.98it/s]\n",
      "100%|██████████| 5/5 [00:00<00:00, 1000.41it/s]\n",
      "epoch: 52\tloss: 0.344: 100%|██████████| 61/61 [00:00<00:00, 154.82it/s]\n",
      "100%|██████████| 5/5 [00:00<00:00, 416.53it/s]\n",
      "epoch: 53\tloss: 0.357: 100%|██████████| 61/61 [00:00<00:00, 86.40it/s] \n",
      "100%|██████████| 5/5 [00:00<00:00, 625.01it/s]\n",
      "epoch: 54\tloss: 0.353: 100%|██████████| 61/61 [00:00<00:00, 155.22it/s]\n",
      "100%|██████████| 5/5 [00:00<00:00, 357.41it/s]\n",
      "epoch: 55\tloss: 0.351: 100%|██████████| 61/61 [00:00<00:00, 142.31it/s]\n",
      "100%|██████████| 5/5 [00:00<00:00, 555.74it/s]\n",
      "epoch: 56\tloss: 0.361: 100%|██████████| 61/61 [00:00<00:00, 164.87it/s]\n",
      "100%|██████████| 5/5 [00:00<00:00, 500.07it/s]\n",
      "epoch: 57\tloss: 0.354: 100%|██████████| 61/61 [00:00<00:00, 169.92it/s]\n",
      "100%|██████████| 5/5 [00:00<00:00, 416.72it/s]\n",
      "epoch: 58\tloss: 0.365: 100%|██████████| 61/61 [00:00<00:00, 153.27it/s]\n",
      "100%|██████████| 5/5 [00:00<00:00, 384.57it/s]\n",
      "epoch: 59\tloss: 0.362: 100%|██████████| 61/61 [00:00<00:00, 150.25it/s]\n",
      "100%|██████████| 5/5 [00:00<00:00, 831.02it/s]\n",
      "epoch: 60\tloss: 0.347: 100%|██████████| 61/61 [00:00<00:00, 94.60it/s] \n",
      "100%|██████████| 5/5 [00:00<00:00, 1000.22it/s]\n",
      "epoch: 61\tloss: 0.357: 100%|██████████| 61/61 [00:00<00:00, 132.03it/s]\n",
      "100%|██████████| 5/5 [00:00<00:00, 831.58it/s]\n",
      "epoch: 62\tloss: 0.352: 100%|██████████| 61/61 [00:00<00:00, 149.51it/s]\n",
      "100%|██████████| 5/5 [00:00<00:00, 1000.07it/s]\n",
      "epoch: 63\tloss: 0.383: 100%|██████████| 61/61 [00:00<00:00, 152.11it/s]\n",
      "100%|██████████| 5/5 [00:00<00:00, 555.60it/s]\n",
      "epoch: 64\tloss: 0.369: 100%|██████████| 61/61 [00:00<00:00, 170.86it/s]\n",
      "100%|██████████| 5/5 [00:00<00:00, 714.39it/s]\n",
      "epoch: 65\tloss: 0.367: 100%|██████████| 61/61 [00:00<00:00, 169.44it/s]\n",
      "100%|██████████| 5/5 [00:00<00:00, 555.82it/s]\n",
      "epoch: 66\tloss: 0.380: 100%|██████████| 61/61 [00:00<00:00, 147.03it/s]\n",
      "100%|██████████| 5/5 [00:00<00:00, 996.98it/s]\n",
      "epoch: 67\tloss: 0.353: 100%|██████████| 61/61 [00:00<00:00, 160.53it/s]\n",
      "100%|██████████| 5/5 [00:00<00:00, 554.85it/s]\n",
      "epoch: 68\tloss: 0.367: 100%|██████████| 61/61 [00:00<00:00, 117.08it/s]\n",
      "100%|██████████| 5/5 [00:00<00:00, 714.26it/s]\n",
      "epoch: 69\tloss: 0.362: 100%|██████████| 61/61 [00:00<00:00, 115.31it/s]\n",
      "100%|██████████| 5/5 [00:00<00:00, 500.06it/s]\n",
      "epoch: 70\tloss: 0.365: 100%|██████████| 61/61 [00:00<00:00, 150.25it/s]\n",
      "100%|██████████| 5/5 [00:00<00:00, 555.73it/s]\n",
      "epoch: 71\tloss: 0.349: 100%|██████████| 61/61 [00:00<00:00, 158.33it/s]\n",
      "100%|██████████| 5/5 [00:00<00:00, 714.56it/s]\n",
      "epoch: 72\tloss: 0.351: 100%|██████████| 61/61 [00:00<00:00, 165.76it/s]\n",
      "100%|██████████| 5/5 [00:00<00:00, 714.29it/s]\n",
      "epoch: 73\tloss: 0.356: 100%|██████████| 61/61 [00:00<00:00, 152.12it/s]\n",
      "100%|██████████| 5/5 [00:00<00:00, 833.56it/s]\n",
      "epoch: 74\tloss: 0.355: 100%|██████████| 61/61 [00:00<00:00, 148.06it/s]\n",
      "100%|██████████| 5/5 [00:00<00:00, 625.06it/s]\n",
      "epoch: 75\tloss: 0.368: 100%|██████████| 61/61 [00:00<00:00, 158.85it/s]\n",
      "100%|██████████| 5/5 [00:00<00:00, 500.11it/s]\n",
      "epoch: 76\tloss: 0.355: 100%|██████████| 61/61 [00:00<00:00, 120.28it/s]\n",
      "100%|██████████| 5/5 [00:00<00:00, 384.63it/s]\n",
      "epoch: 77\tloss: 0.356: 100%|██████████| 61/61 [00:00<00:00, 100.24it/s]\n",
      "100%|██████████| 5/5 [00:00<00:00, 454.34it/s]\n",
      "epoch: 78\tloss: 0.365: 100%|██████████| 61/61 [00:00<00:00, 159.69it/s]\n",
      "100%|██████████| 5/5 [00:00<00:00, 555.70it/s]\n",
      "epoch: 79\tloss: 0.367: 100%|██████████| 61/61 [00:00<00:00, 141.86it/s]\n",
      "100%|██████████| 5/5 [00:00<00:00, 416.75it/s]\n",
      "epoch: 80\tloss: 0.347: 100%|██████████| 61/61 [00:00<00:00, 134.36it/s]\n",
      "100%|██████████| 5/5 [00:00<00:00, 1000.31it/s]\n",
      "epoch: 81\tloss: 0.345: 100%|██████████| 61/61 [00:00<00:00, 153.49it/s]\n",
      "100%|██████████| 5/5 [00:00<00:00, 500.16it/s]\n",
      "epoch: 82\tloss: 0.350: 100%|██████████| 61/61 [00:00<00:00, 145.93it/s]\n",
      "100%|██████████| 5/5 [00:00<00:00, 417.11it/s]\n",
      "epoch: 83\tloss: 0.357: 100%|██████████| 61/61 [00:00<00:00, 156.81it/s]\n",
      "100%|██████████| 5/5 [00:00<00:00, 713.15it/s]\n",
      "epoch: 84\tloss: 0.387: 100%|██████████| 61/61 [00:00<00:00, 94.87it/s] \n",
      "100%|██████████| 5/5 [00:00<00:00, 500.10it/s]\n",
      "epoch: 85\tloss: 0.366: 100%|██████████| 61/61 [00:00<00:00, 125.80it/s]\n",
      "100%|██████████| 5/5 [00:00<00:00, 467.38it/s]\n",
      "epoch: 86\tloss: 0.344: 100%|██████████| 61/61 [00:00<00:00, 143.24it/s]\n",
      "100%|██████████| 5/5 [00:00<00:00, 999.69it/s]\n",
      "epoch: 87\tloss: 0.351: 100%|██████████| 61/61 [00:00<00:00, 146.64it/s]\n",
      "100%|██████████| 5/5 [00:00<00:00, 625.10it/s]\n",
      "epoch: 88\tloss: 0.353: 100%|██████████| 61/61 [00:00<00:00, 154.43it/s]\n",
      "100%|██████████| 5/5 [00:00<00:00, 416.64it/s]\n",
      "epoch: 89\tloss: 0.371: 100%|██████████| 61/61 [00:00<00:00, 157.22it/s]\n",
      "100%|██████████| 5/5 [00:00<00:00, 625.10it/s]\n",
      "epoch: 90\tloss: 0.352: 100%|██████████| 61/61 [00:00<00:00, 146.63it/s]\n",
      "100%|██████████| 5/5 [00:00<00:00, 833.89it/s]\n",
      "epoch: 91\tloss: 0.345: 100%|██████████| 61/61 [00:00<00:00, 107.17it/s]\n",
      "100%|██████████| 5/5 [00:00<00:00, 142.87it/s]\n",
      "epoch: 92\tloss: 0.381: 100%|██████████| 61/61 [00:00<00:00, 99.59it/s] \n",
      "100%|██████████| 5/5 [00:00<00:00, 416.72it/s]\n",
      "epoch: 93\tloss: 0.355: 100%|██████████| 61/61 [00:00<00:00, 140.87it/s]\n",
      "100%|██████████| 5/5 [00:00<00:00, 714.26it/s]\n",
      "epoch: 94\tloss: 0.367: 100%|██████████| 61/61 [00:00<00:00, 163.54it/s]\n",
      "100%|██████████| 5/5 [00:00<00:00, 500.19it/s]\n",
      "epoch: 95\tloss: 0.347: 100%|██████████| 61/61 [00:00<00:00, 121.98it/s]\n",
      "100%|██████████| 5/5 [00:00<00:00, 556.30it/s]\n",
      "epoch: 96\tloss: 0.354: 100%|██████████| 61/61 [00:00<00:00, 158.85it/s]\n",
      "100%|██████████| 5/5 [00:00<00:00, 624.99it/s]\n",
      "epoch: 97\tloss: 0.363: 100%|██████████| 61/61 [00:00<00:00, 111.72it/s]\n",
      "100%|██████████| 5/5 [00:00<00:00, 108.69it/s]\n",
      "epoch: 98\tloss: 0.361: 100%|██████████| 61/61 [00:00<00:00, 107.21it/s]\n",
      "100%|██████████| 5/5 [00:00<00:00, 714.34it/s]\n",
      "epoch: 99\tloss: 0.364: 100%|██████████| 61/61 [00:00<00:00, 139.05it/s]\n",
      "100%|██████████| 5/5 [00:00<00:00, 554.92it/s]\n"
     ]
    }
   ],
   "source": [
    "stats = train(\n",
    "    model, \n",
    "    dataloader_val,\n",
    "    dataloader_train,\n",
    "    optimizer,\n",
    "    criterion,\n",
    "    100\n",
    "    )"
   ]
  },
  {
   "cell_type": "code",
   "execution_count": 83,
   "metadata": {},
   "outputs": [
    {
     "data": {
      "image/png": "[encoded data removed]",
      "text/plain": [
       "<Figure size 640x480 with 1 Axes>"
      ]
     },
     "metadata": {},
     "output_type": "display_data"
    }
   ],
   "source": [
    "plt.title('Loss func')\n",
    "plt.xlabel('Num epoch')\n",
    "plt.ylabel('loss')\n",
    "\n",
    "plt.plot(stats['loss_func'], 'r')\n",
    "\n",
    "plt.tight_layout()\n",
    "\n",
    "plt.show()"
   ]
  },
  {
   "cell_type": "code",
   "execution_count": 84,
   "metadata": {},
   "outputs": [
    {
     "data": {
      "image/png": "[encoded data removed]",
      "text/plain": [
       "<Figure size 640x480 with 1 Axes>"
      ]
     },
     "metadata": {},
     "output_type": "display_data"
    }
   ],
   "source": [
    "plt.title('Valid Accuracy')\n",
    "plt.xlabel('Num epoch')\n",
    "plt.ylabel('Score')\n",
    "\n",
    "plt.plot(stats['valid_loss'], 'b', label='Valid score')\n",
    "\n",
    "plt.legend(fontsize=10)\n",
    "plt.tight_layout()\n",
    "\n",
    "plt.show()"
   ]
  },
  {
   "cell_type": "markdown",
   "metadata": {},
   "source": [
    "Test score"
   ]
  },
  {
   "cell_type": "code",
   "execution_count": 85,
   "metadata": {},
   "outputs": [
    {
     "name": "stderr",
     "output_type": "stream",
     "text": [
      "100%|██████████| 5/5 [00:00<00:00, 312.33it/s]"
     ]
    },
    {
     "name": "stdout",
     "output_type": "stream",
     "text": [
      "Test score: 0.10127239227294922\n"
     ]
    },
    {
     "name": "stderr",
     "output_type": "stream",
     "text": [
      "\n"
     ]
    }
   ],
   "source": [
    "print(f'Test score: {test(model, dataloader_test)}')"
   ]
  },
  {
   "cell_type": "code",
   "execution_count": 86,
   "metadata": {},
   "outputs": [],
   "source": [
    "all_loader = torch.utils.data.DataLoader(data, 1, shuffle=True)"
   ]
  },
  {
   "cell_type": "code",
   "execution_count": 87,
   "metadata": {},
   "outputs": [],
   "source": [
    "x = []\n",
    "y = []\n",
    "x_pred = []\n",
    "\n",
    "for data in all_loader:\n",
    "    inputs, labels = data\n",
    "    inputs, labels = inputs.to(device), labels.to(device)\n",
    "\n",
    "    outputs = model(inputs)\n",
    "    y.append(inputs[0][1].item())\n",
    "    x.append(outputs[0].item())\n",
    "    x_pred.append(labels[0].item())"
   ]
  },
  {
   "cell_type": "code",
   "execution_count": 108,
   "metadata": {},
   "outputs": [
    {
     "data": {
      "text/plain": [
       "<matplotlib.collections.PathCollection at 0x224e8f40d40>"
      ]
     },
     "execution_count": 108,
     "metadata": {},
     "output_type": "execute_result"
    },
    {
     "data": {
      "image/png": "[encoded data removed]",
      "text/plain": [
       "<Figure size 640x480 with 1 Axes>"
      ]
     },
     "metadata": {},
     "output_type": "display_data"
    }
   ],
   "source": [
    "import matplotlib.pyplot as plt\n",
    "plt.scatter(np.random.sample(len(x_pred))%0.1+np.array(x_pred), np.random.sample(len(y))%0.1+y)\n",
    "plt.scatter(x_pred, y)"
   ]
  },
  {
   "cell_type": "code",
   "execution_count": null,
   "metadata": {},
   "outputs": [],
   "source": []
  }
 ],
 "metadata": {
  "kernelspec": {
   "display_name": "pythorch",
   "language": "python",
   "name": "python3"
  },
  "language_info": {
   "codemirror_mode": {
    "name": "ipython",
    "version": 3
   },
   "file_extension": ".py",
   "mimetype": "text/x-python",
   "name": "python",
   "nbconvert_exporter": "python",
   "pygments_lexer": "ipython3",
   "version": "3.12.2"
  }
 },
 "nbformat": 4,
 "nbformat_minor": 2
}
