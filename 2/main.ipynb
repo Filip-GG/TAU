{
 "cells": [
  {
   "cell_type": "code",
   "execution_count": null,
   "metadata": {},
   "outputs": [],
   "source": [
    "from scipy.integrate import odeint \n",
    "import numpy as np \n",
    "import matplotlib.pyplot as plt \n",
    " \n",
    "T_1 = 20 \n",
    "T_2 = 40 \n",
    "k = 40/220 \n",
    "state = 0 \n",
    "def ode_sys_1_control(x): \n",
    "    try: \n",
    "        ode_sys_1_control.state \n",
    "    except: \n",
    "        ode_sys_1_control.state = 0 \n",
    "    c_1 = x >= 21 \n",
    "    c_2 = x >= 23 \n",
    "     \n",
    "    if not c_1 and not c_2: \n",
    "        ode_sys_1_control.state = 1 \n",
    "        return 1 \n",
    "    elif c_1 and c_2: \n",
    "        ode_sys_1_control.state = 0 \n",
    "        return 0 \n",
    "    elif c_1 and not c_2 and ode_sys_1_control.state==1: \n",
    "        ode_sys_1_control.state = 1 \n",
    "        return 1 \n",
    "    elif c_1 and not c_2 and ode_sys_1_control.state==0: \n",
    "        ode_sys_1_control.state = 0 \n",
    "        return 0 \n",
    " \n",
    "def ode_sys_1(x, t): \n",
    "    \"\"\" \n",
    "    Функция, рализующая систему из первого примера \n",
    "    \"\"\" \n",
    "    v, theta = x \n",
    "     \n",
    "    u = 220 * ode_sys_1_control(theta) \n",
    "    dv_dt = (u - v)/T_1 \n",
    "    dtheta_dt = (k*v - theta) / T_2 \n",
    "    return (dv_dt, dtheta_dt) \n",
    " \n",
    " \n",
    "y0 = (0, 0) \n",
    "t = np.linspace(0, 200, 1001) \n",
    "sol_ode_sys_1 = odeint(ode_sys_1, y0, t) \n",
    " \n",
    "plt.plot(t, sol_ode_sys_1[:,1]) \n",
    "plt.grid() "
   ]
  }
 ],
 "metadata": {
  "kernelspec": {
   "display_name": "pythorch",
   "language": "python",
   "name": "python3"
  },
  "language_info": {
   "name": "python",
   "version": "3.12.2"
  }
 },
 "nbformat": 4,
 "nbformat_minor": 2
}
